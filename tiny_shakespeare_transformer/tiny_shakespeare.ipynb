{
 "cells": [
  {
   "cell_type": "code",
   "execution_count": 1,
   "metadata": {},
   "outputs": [],
   "source": [
    "import torch\n",
    "import matplotlib.pyplot as plt\n",
    "import random"
   ]
  },
  {
   "cell_type": "code",
   "execution_count": 2,
   "metadata": {},
   "outputs": [],
   "source": [
    "%matplotlib inline"
   ]
  },
  {
   "cell_type": "code",
   "execution_count": 3,
   "metadata": {},
   "outputs": [],
   "source": [
    "# load dataset\n",
    "path = \"dataset/input.txt\"\n",
    "text = open(path).read()\n",
    "vocab = sorted(list(set(text)))\n",
    "vocab_size = len(vocab)\n",
    "block_size = 80"
   ]
  },
  {
   "cell_type": "code",
   "execution_count": 4,
   "metadata": {},
   "outputs": [],
   "source": [
    "stoi = {x:i for i,x in enumerate(vocab)}\n",
    "itos = {i:x for i,x in enumerate(vocab)}"
   ]
  },
  {
   "cell_type": "code",
   "execution_count": 5,
   "metadata": {},
   "outputs": [],
   "source": [
    "tokenized_text = torch.tensor([stoi[x] for x in text])\n"
   ]
  },
  {
   "cell_type": "code",
   "execution_count": 6,
   "metadata": {},
   "outputs": [
    {
     "data": {
      "text/plain": [
       "1115394"
      ]
     },
     "execution_count": 6,
     "metadata": {},
     "output_type": "execute_result"
    }
   ],
   "source": [
    "tokenized_text.size()[0]"
   ]
  },
  {
   "cell_type": "code",
   "execution_count": 7,
   "metadata": {},
   "outputs": [
    {
     "data": {
      "text/plain": [
       "'e we proceed any further, hear me speak.\\n\\nAll:\\nSpeak, speak.\\n\\nFirst Ci'"
      ]
     },
     "execution_count": 7,
     "metadata": {},
     "output_type": "execute_result"
    }
   ],
   "source": [
    "\"\".join([itos[int(x)] for x in tokenized_text[20:90]])"
   ]
  },
  {
   "cell_type": "code",
   "execution_count": 8,
   "metadata": {},
   "outputs": [],
   "source": [
    "dataset_size = tokenized_text.size()[0]\n",
    "\n",
    "train_set_size = int(dataset_size*0.9)\n",
    "train_set, test_set = tokenized_text[:train_set_size], tokenized_text[train_set_size:]"
   ]
  },
  {
   "cell_type": "code",
   "execution_count": 9,
   "metadata": {},
   "outputs": [],
   "source": [
    "def get_batch(bs=5):\n",
    "    ret = []\n",
    "    for _ in range(bs):\n",
    "        idx = random.randint(0, train_set.size()[0]-block_size)\n",
    "        sample = tokenized_text[idx:idx+block_size]\n",
    "        ret.append(sample)\n",
    "    return torch.cat(ret, dim=0).view(bs, -1)"
   ]
  },
  {
   "cell_type": "code",
   "execution_count": 10,
   "metadata": {},
   "outputs": [],
   "source": [
    "def encode(x):\n",
    "    return torch.tensor([stoi[k] for k in x])\n",
    "    \n",
    "def decode(x):\n",
    "    return \"\".join([itos[k.item()] for k in x])\n",
    "    "
   ]
  },
  {
   "cell_type": "code",
   "execution_count": 11,
   "metadata": {},
   "outputs": [
    {
     "data": {
      "text/plain": [
       "'hello'"
      ]
     },
     "execution_count": 11,
     "metadata": {},
     "output_type": "execute_result"
    }
   ],
   "source": [
    "decode(encode(\"hello\"))"
   ]
  },
  {
   "cell_type": "code",
   "execution_count": null,
   "metadata": {},
   "outputs": [],
   "source": [
    "itos"
   ]
  },
  {
   "cell_type": "code",
   "execution_count": 59,
   "metadata": {},
   "outputs": [
    {
     "data": {
      "text/plain": [
       "' no longer, dreaming'"
      ]
     },
     "execution_count": 59,
     "metadata": {},
     "output_type": "execute_result"
    }
   ],
   "source": [
    "decode(get_batch()[0])"
   ]
  },
  {
   "cell_type": "code",
   "execution_count": null,
   "metadata": {},
   "outputs": [],
   "source": []
  },
  {
   "cell_type": "code",
   "execution_count": 8,
   "metadata": {},
   "outputs": [],
   "source": [
    "# bigram baseline\n",
    "W = torch.zeros((vocab_size, vocab_size))\n",
    "for x, y in zip(tokenized_text[:-1], tokenized_text[1:]):\n",
    "    W[int(x), int(y)] += 1\n",
    "    "
   ]
  },
  {
   "cell_type": "code",
   "execution_count": 9,
   "metadata": {},
   "outputs": [
    {
     "data": {
      "text/plain": [
       "<matplotlib.image.AxesImage at 0x7f0e17673d30>"
      ]
     },
     "execution_count": 9,
     "metadata": {},
     "output_type": "execute_result"
    },
    {
     "data": {
      "image/png": "[encoded data removed]",
      "text/plain": [
       "<Figure size 432x288 with 1 Axes>"
      ]
     },
     "metadata": {
      "needs_background": "light"
     },
     "output_type": "display_data"
    }
   ],
   "source": [
    "plt.imshow(W.numpy())"
   ]
  },
  {
   "cell_type": "code",
   "execution_count": 10,
   "metadata": {},
   "outputs": [],
   "source": [
    "W = torch.zeros((vocab_size, vocab_size))"
   ]
  },
  {
   "cell_type": "code",
   "execution_count": 11,
   "metadata": {},
   "outputs": [],
   "source": [
    "prompt = \"H\""
   ]
  },
  {
   "cell_type": "code",
   "execution_count": 12,
   "metadata": {},
   "outputs": [],
   "source": [
    "def generate(prompt, n=30):\n",
    "    ret = prompt\n",
    "    prev = stoi[prompt[-1]]\n",
    "    \n",
    "    for i in range(n):\n",
    "        softmax = torch.nn.Softmax(dim=0)\n",
    "        probs = torch.nn.functional.one_hot(torch.tensor(prev), num_classes=vocab_size).float() @ W\n",
    "        prev = torch.multinomial(probs, 1).item()\n",
    "        ret += itos[prev]\n",
    "        \n",
    "    return ret"
   ]
  },
  {
   "cell_type": "code",
   "execution_count": 13,
   "metadata": {},
   "outputs": [
    {
     "ename": "RuntimeError",
     "evalue": "invalid multinomial distribution (sum of probabilities <= 0)",
     "output_type": "error",
     "traceback": [
      "\u001b[0;31m---------------------------------------------------------------------------\u001b[0m",
      "\u001b[0;31mRuntimeError\u001b[0m                              Traceback (most recent call last)",
      "\u001b[0;32m<ipython-input-13-cf6e1f5dabc7>\u001b[0m in \u001b[0;36m<module>\u001b[0;34m\u001b[0m\n\u001b[0;32m----> 1\u001b[0;31m \u001b[0mgenerate\u001b[0m\u001b[0;34m(\u001b[0m\u001b[0;34m\"Hello\"\u001b[0m\u001b[0;34m,\u001b[0m \u001b[0mn\u001b[0m\u001b[0;34m=\u001b[0m\u001b[0;36m40\u001b[0m\u001b[0;34m)\u001b[0m\u001b[0;34m\u001b[0m\u001b[0;34m\u001b[0m\u001b[0m\n\u001b[0m",
      "\u001b[0;32m<ipython-input-12-4bc70a2ae15a>\u001b[0m in \u001b[0;36mgenerate\u001b[0;34m(prompt, n)\u001b[0m\n\u001b[1;32m      6\u001b[0m         \u001b[0msoftmax\u001b[0m \u001b[0;34m=\u001b[0m \u001b[0mtorch\u001b[0m\u001b[0;34m.\u001b[0m\u001b[0mnn\u001b[0m\u001b[0;34m.\u001b[0m\u001b[0mSoftmax\u001b[0m\u001b[0;34m(\u001b[0m\u001b[0mdim\u001b[0m\u001b[0;34m=\u001b[0m\u001b[0;36m0\u001b[0m\u001b[0;34m)\u001b[0m\u001b[0;34m\u001b[0m\u001b[0;34m\u001b[0m\u001b[0m\n\u001b[1;32m      7\u001b[0m         \u001b[0mprobs\u001b[0m \u001b[0;34m=\u001b[0m \u001b[0mtorch\u001b[0m\u001b[0;34m.\u001b[0m\u001b[0mnn\u001b[0m\u001b[0;34m.\u001b[0m\u001b[0mfunctional\u001b[0m\u001b[0;34m.\u001b[0m\u001b[0mone_hot\u001b[0m\u001b[0;34m(\u001b[0m\u001b[0mtorch\u001b[0m\u001b[0;34m.\u001b[0m\u001b[0mtensor\u001b[0m\u001b[0;34m(\u001b[0m\u001b[0mprev\u001b[0m\u001b[0;34m)\u001b[0m\u001b[0;34m,\u001b[0m \u001b[0mnum_classes\u001b[0m\u001b[0;34m=\u001b[0m\u001b[0mvocab_size\u001b[0m\u001b[0;34m)\u001b[0m\u001b[0;34m.\u001b[0m\u001b[0mfloat\u001b[0m\u001b[0;34m(\u001b[0m\u001b[0;34m)\u001b[0m \u001b[0;34m@\u001b[0m \u001b[0mW\u001b[0m\u001b[0;34m\u001b[0m\u001b[0;34m\u001b[0m\u001b[0m\n\u001b[0;32m----> 8\u001b[0;31m         \u001b[0mprev\u001b[0m \u001b[0;34m=\u001b[0m \u001b[0mtorch\u001b[0m\u001b[0;34m.\u001b[0m\u001b[0mmultinomial\u001b[0m\u001b[0;34m(\u001b[0m\u001b[0mprobs\u001b[0m\u001b[0;34m,\u001b[0m \u001b[0;36m1\u001b[0m\u001b[0;34m)\u001b[0m\u001b[0;34m.\u001b[0m\u001b[0mitem\u001b[0m\u001b[0;34m(\u001b[0m\u001b[0;34m)\u001b[0m\u001b[0;34m\u001b[0m\u001b[0;34m\u001b[0m\u001b[0m\n\u001b[0m\u001b[1;32m      9\u001b[0m         \u001b[0mret\u001b[0m \u001b[0;34m+=\u001b[0m \u001b[0mitos\u001b[0m\u001b[0;34m[\u001b[0m\u001b[0mprev\u001b[0m\u001b[0;34m]\u001b[0m\u001b[0;34m\u001b[0m\u001b[0;34m\u001b[0m\u001b[0m\n\u001b[1;32m     10\u001b[0m \u001b[0;34m\u001b[0m\u001b[0m\n",
      "\u001b[0;31mRuntimeError\u001b[0m: invalid multinomial distribution (sum of probabilities <= 0)"
     ]
    }
   ],
   "source": [
    "generate(\"Hello\", n=40)"
   ]
  },
  {
   "cell_type": "code",
   "execution_count": null,
   "metadata": {},
   "outputs": [],
   "source": [
    "torch.nn.functional.one_hot(torch.tensor(8))"
   ]
  },
  {
   "cell_type": "code",
   "execution_count": null,
   "metadata": {},
   "outputs": [],
   "source": [
    "weight = torch.rand(8,8) \n",
    "x = torch.tensor([1,0,0,0,0,0,0,0], dtype=torch.float)\n",
    "out = x @ weight\n",
    "out"
   ]
  },
  {
   "cell_type": "code",
   "execution_count": null,
   "metadata": {},
   "outputs": [],
   "source": [
    "weight[0]"
   ]
  },
  {
   "cell_type": "code",
   "execution_count": 218,
   "metadata": {},
   "outputs": [],
   "source": [
    "# bigram model in more pytorchian fashion\n",
    "class BigramLM(torch.nn.Module):\n",
    "    def __init__(self, vocab_size):\n",
    "        super(BigramLM, self).__init__()\n",
    "        self.vocab_size = vocab_size\n",
    "        #self.W = torch.nn.Linear(vocab_size, vocab_size, bias=None)\n",
    "        self.emb = torch.nn.Embedding(vocab_size, vocab_size)\n",
    "        \n",
    "    def forward(self, x, targets=None):\n",
    "        #x = self.W(x)\n",
    "        x = self.emb(x)\n",
    "        \n",
    "        if targets is not None:\n",
    "            B, T, C = x.shape\n",
    "            logits = x.reshape(B*T, C)\n",
    "            targets = targets.reshape(B*T)\n",
    "            loss = torch.nn.functional.cross_entropy(logits, targets)\n",
    "        else:\n",
    "            loss = None\n",
    "            \n",
    "        return x, loss\n",
    "    \n",
    "    def generate(self, prompt, n_iters=80):\n",
    "        idx = torch.tensor([prompt[-1]])\n",
    "        \n",
    "        for _ in range(n_iters):\n",
    "            preds, _ = self(idx)\n",
    "            probs = torch.softmax(preds, dim=-1)\n",
    "            idx = torch.multinomial(probs, 1)\n",
    "            idx = idx.flatten()\n",
    "\n",
    "            prompt = torch.cat((prompt, idx))\n",
    "        return prompt\n",
    "    "
   ]
  },
  {
   "cell_type": "code",
   "execution_count": 230,
   "metadata": {},
   "outputs": [
    {
     "name": "stdout",
     "output_type": "stream",
     "text": [
      "\n",
      "rEpRvNIuZC&3sfgehu $miXCH&Xzr&-EkZ-3L:R$taYGujm;WERCbRnWTMAfqOpwbuwXqiuGr:'e,IZG\n",
      "\n",
      "tensor(4.7949, grad_fn=<NllLossBackward0>)\n"
     ]
    }
   ],
   "source": [
    "model = BigramLM(vocab_size)\n",
    "\n",
    "X = get_batch()   # B, T\n",
    "#one_hots = torch.nn.functional.one_hot(X[:, :-1], num_classes=vocab_size).float()  # B, T, C\n",
    "\n",
    "preds, loss = model(X[:, :-1], X[:, 1:])\n",
    "\n",
    "prompt = encode(\"\\n\")\n",
    "tok_generated_text = model.generate(prompt)\n",
    "print(decode(tok_generated_text))\n",
    "print()\n",
    "print(loss)"
   ]
  },
  {
   "cell_type": "code",
   "execution_count": 231,
   "metadata": {},
   "outputs": [
    {
     "name": "stdout",
     "output_type": "stream",
     "text": [
      "inherited my very w\n",
      "nherited my very wi\n"
     ]
    }
   ],
   "source": [
    "X = get_batch()\n",
    "\n",
    "print(decode(X[:, :-1][0]))\n",
    "print(decode(X[:, 1:][0]))\n"
   ]
  },
  {
   "cell_type": "code",
   "execution_count": 232,
   "metadata": {},
   "outputs": [],
   "source": [
    "optimizer = torch.optim.AdamW(model.parameters(), lr=1e-3)"
   ]
  },
  {
   "cell_type": "code",
   "execution_count": 119,
   "metadata": {},
   "outputs": [
    {
     "name": "stdout",
     "output_type": "stream",
     "text": [
      "torch.Size([1003854])\n",
      "torch.Size([111540])\n"
     ]
    }
   ],
   "source": [
    "print(train_set.shape)\n",
    "print(test_set.shape)"
   ]
  },
  {
   "cell_type": "code",
   "execution_count": 123,
   "metadata": {},
   "outputs": [
    {
     "data": {
      "text/plain": [
       "tensor([[12,  0,  0,  ...,  1, 40, 43],\n",
       "        [58, 58, 43,  ...,  1, 58, 46],\n",
       "        [43, 43,  1,  ..., 15, 20, 21],\n",
       "        ...,\n",
       "        [58, 46, 43,  ..., 56, 43,  8],\n",
       "        [ 0,  0, 19,  ..., 57, 47, 56],\n",
       "        [ 6,  0, 35,  ..., 46, 47, 50]])"
      ]
     },
     "execution_count": 123,
     "metadata": {},
     "output_type": "execute_result"
    }
   ],
   "source": [
    "test_set[:32 * (test_set.size()[0]// 32)].reshape(32, -1)"
   ]
  },
  {
   "cell_type": "code",
   "execution_count": null,
   "metadata": {},
   "outputs": [],
   "source": [
    "def validation_loss():\n",
    "    "
   ]
  },
  {
   "cell_type": "code",
   "execution_count": 235,
   "metadata": {},
   "outputs": [
    {
     "name": "stdout",
     "output_type": "stream",
     "text": [
      "tensor(2.4019, grad_fn=<NllLossBackward0>)\n"
     ]
    }
   ],
   "source": [
    "# training loop:\n",
    "for e in range(10000):\n",
    "    X = get_batch()\n",
    "    #one_hots = torch.nn.functional.one_hot(X[:, :-1], num_classes=vocab_size).float()\n",
    "    preds, loss = model(X[:, :-1], X[:, 1:])\n",
    "\n",
    "    optimizer.zero_grad()\n",
    "\n",
    "    loss.backward()\n",
    "    optimizer.step()\n",
    "    \n",
    "print(loss)"
   ]
  },
  {
   "cell_type": "code",
   "execution_count": 250,
   "metadata": {},
   "outputs": [],
   "source": [
    "a = torch.randn(8,8)"
   ]
  },
  {
   "cell_type": "code",
   "execution_count": 251,
   "metadata": {},
   "outputs": [
    {
     "data": {
      "text/plain": [
       "tensor([[False,  True,  True,  True,  True,  True,  True,  True],\n",
       "        [False, False,  True,  True,  True,  True,  True,  True],\n",
       "        [False, False, False,  True,  True,  True,  True,  True],\n",
       "        [False, False, False, False,  True,  True,  True,  True],\n",
       "        [False, False, False, False, False,  True,  True,  True],\n",
       "        [False, False, False, False, False, False,  True,  True],\n",
       "        [False, False, False, False, False, False, False,  True],\n",
       "        [False, False, False, False, False, False, False, False]])"
      ]
     },
     "execution_count": 251,
     "metadata": {},
     "output_type": "execute_result"
    }
   ],
   "source": [
    "torch.tril(torch.ones(8, 8)) == 0."
   ]
  },
  {
   "cell_type": "code",
   "execution_count": 254,
   "metadata": {},
   "outputs": [
    {
     "data": {
      "text/plain": [
       "tensor([[1.0000, 0.0000, 0.0000, 0.0000, 0.0000, 0.0000, 0.0000, 0.0000],\n",
       "        [0.3287, 0.6713, 0.0000, 0.0000, 0.0000, 0.0000, 0.0000, 0.0000],\n",
       "        [0.2057, 0.3554, 0.4389, 0.0000, 0.0000, 0.0000, 0.0000, 0.0000],\n",
       "        [0.0969, 0.6325, 0.0875, 0.1830, 0.0000, 0.0000, 0.0000, 0.0000],\n",
       "        [0.1568, 0.0761, 0.1015, 0.4888, 0.1768, 0.0000, 0.0000, 0.0000],\n",
       "        [0.1577, 0.1174, 0.0644, 0.4913, 0.0904, 0.0789, 0.0000, 0.0000],\n",
       "        [0.0197, 0.1104, 0.0345, 0.1194, 0.2567, 0.3250, 0.1342, 0.0000],\n",
       "        [0.2401, 0.0213, 0.0914, 0.1876, 0.3216, 0.0673, 0.0070, 0.0636]])"
      ]
     },
     "execution_count": 254,
     "metadata": {},
     "output_type": "execute_result"
    }
   ],
   "source": [
    "torch.nn.functional.softmax(a.masked_fill(torch.tril(torch.ones(8, 8)) == 0., value=float('-inf')), dim=-1)\n"
   ]
  },
  {
   "cell_type": "code",
   "execution_count": 604,
   "metadata": {},
   "outputs": [
    {
     "ename": "RuntimeError",
     "evalue": "Expected size for first two dimensions of batch2 tensor to be: [20, 7] but got: [20, 6].",
     "output_type": "error",
     "traceback": [
      "\u001b[0;31m---------------------------------------------------------------------------\u001b[0m",
      "\u001b[0;31mRuntimeError\u001b[0m                              Traceback (most recent call last)",
      "\u001b[0;32m<ipython-input-604-6e2228cab43a>\u001b[0m in \u001b[0;36m<module>\u001b[0;34m\u001b[0m\n\u001b[1;32m      1\u001b[0m \u001b[0ma\u001b[0m \u001b[0;34m=\u001b[0m \u001b[0mtorch\u001b[0m\u001b[0;34m.\u001b[0m\u001b[0mrandn\u001b[0m\u001b[0;34m(\u001b[0m\u001b[0;36m5\u001b[0m\u001b[0;34m,\u001b[0m \u001b[0;36m6\u001b[0m\u001b[0;34m,\u001b[0m \u001b[0;36m7\u001b[0m\u001b[0;34m)\u001b[0m\u001b[0;34m\u001b[0m\u001b[0;34m\u001b[0m\u001b[0m\n\u001b[0;32m----> 2\u001b[0;31m \u001b[0ma\u001b[0m\u001b[0;34m.\u001b[0m\u001b[0mrepeat\u001b[0m\u001b[0;34m(\u001b[0m\u001b[0;36m4\u001b[0m\u001b[0;34m,\u001b[0m \u001b[0;36m1\u001b[0m\u001b[0;34m,\u001b[0m \u001b[0;36m1\u001b[0m\u001b[0;34m,\u001b[0m \u001b[0;36m1\u001b[0m\u001b[0;34m)\u001b[0m \u001b[0;34m@\u001b[0m \u001b[0mtorch\u001b[0m\u001b[0;34m.\u001b[0m\u001b[0mrandn\u001b[0m\u001b[0;34m(\u001b[0m\u001b[0;36m1\u001b[0m\u001b[0;34m,\u001b[0m \u001b[0;36m5\u001b[0m\u001b[0;34m,\u001b[0m \u001b[0;36m6\u001b[0m\u001b[0;34m,\u001b[0m \u001b[0;36m7\u001b[0m\u001b[0;34m)\u001b[0m\u001b[0;34m\u001b[0m\u001b[0;34m\u001b[0m\u001b[0m\n\u001b[0m",
      "\u001b[0;31mRuntimeError\u001b[0m: Expected size for first two dimensions of batch2 tensor to be: [20, 7] but got: [20, 6]."
     ]
    }
   ],
   "source": []
  },
  {
   "cell_type": "code",
   "execution_count": 153,
   "metadata": {},
   "outputs": [],
   "source": [
    "# lets build the transformer\n",
    "class AttentionHead(torch.nn.Module):\n",
    "    def __init__(self, d_model, head_size):\n",
    "        super(AttentionHead, self).__init__()\n",
    "        self.d_model = d_model\n",
    "        self.head_size = head_size\n",
    "        self.q = torch.nn.Linear(d_model, head_size, bias=False)\n",
    "        self.k = torch.nn.Linear(d_model, head_size, bias=False)\n",
    "        self.v = torch.nn.Linear(d_model, head_size, bias=False)\n",
    "\n",
    "        self.register_buffer(\"tril\", torch.tril(torch.ones(block_size, block_size)))\n",
    "        \n",
    "        \n",
    "    def forward(self, x):\n",
    "        # x is of shape B T C ( C = dim_model)\n",
    "        B, T, C = x.shape\n",
    "        K = self.k(x)\n",
    "        Q = self.q(x)\n",
    "        V = self.v(x)\n",
    "        \n",
    "        \n",
    "        x = Q @ K.transpose(-2, -1) * self.d_model **(-1/2)    # B, T, T\n",
    "        \n",
    "        x = x.masked_fill(self.tril[:T, :T] == 0, value=float(\"-inf\"))\n",
    "        x = torch.nn.functional.softmax(x, dim=-1)\n",
    "        \n",
    "        x = x @ V\n",
    "        return K\n",
    "    \n",
    "class MultiHeadAttention(torch.nn.Module):\n",
    "    def __init__(self, d_model, n_heads, head_size, use_flash=True):\n",
    "        super(MultiHeadAttention, self).__init__()\n",
    "        self.heads = torch.nn.ModuleList([AttentionHead(d_model, head_size) for _ in range(n_heads)])\n",
    "        self.n_heads = n_heads \n",
    "        self.d_model = d_model\n",
    "        self.head_size = head_size\n",
    "                \n",
    "        self.use_flash = use_flash\n",
    "        \n",
    "        self.attn_n = torch.nn.Linear(d_model, 3*head_size*n_heads, bias=False)\n",
    "        self.proj = torch.nn.Linear(d_model, d_model, bias=False)\n",
    "        \n",
    "        self.resid_dropout = torch.nn.Dropout(0.1)\n",
    "        self.attn_dropout = torch.nn.Dropout(0.1)\n",
    "        \n",
    "        self.register_buffer(\"tril\", torch.tril(torch.ones(block_size, block_size)))\n",
    "    \n",
    "    def forward(self, x):\n",
    "        B, T, C = x.shape\n",
    "        q, k, v = self.attn_n(x).split(self.head_size*self.n_heads, dim=2)\n",
    "        \n",
    "        q = q.reshape(B, self.n_heads, T, self.head_size)\n",
    "        k = k.reshape(B, self.n_heads, T, self.head_size)\n",
    "        v = v.reshape(B, self.n_heads, T, self.head_size)\n",
    "        \n",
    "        if self.use_flash:\n",
    "            x = torch.nn.functional.scaled_dot_product_attention(q, k, v, attn_mask=None, dropout_p=0.1 if self.training else 0, is_causal=True)\n",
    "        else:\n",
    "            x = q @ k.transpose(-2, -1) * C **(-1/2)    # B, T, T\n",
    "        \n",
    "            x = x.masked_fill(self.tril[:T, :T] == 0, value=float(\"-inf\"))\n",
    "            x = torch.nn.functional.softmax(x, dim=-1)\n",
    "        \n",
    "            x = self.attn_dropout(x)\n",
    "            x = x @ v\n",
    "        \n",
    "        x = x.reshape(B, T, C)\n",
    "        x = self.proj(x)\n",
    "        x = self.resid_dropout(x)\n",
    "        return x #x.reshape(B, T, -1)\n",
    "\n",
    "class FFN(torch.nn.Module):\n",
    "    def __init__(self, d_model):\n",
    "        super(FFN, self).__init__()\n",
    "        self.fn = torch.nn.Sequential(\n",
    "                torch.nn.Linear(d_model, 4*d_model),\n",
    "                torch.nn.ReLU(),\n",
    "                torch.nn.Linear(4*d_model, d_model), \n",
    "                torch.nn.Dropout(0.1))\n",
    "        \n",
    "    def forward(self, x):\n",
    "        return self.fn(x)\n",
    "    \n",
    "class Block(torch.nn.Module):\n",
    "    def __init__(self, d_model, n_heads, use_flash=True):\n",
    "        super(Block, self).__init__()\n",
    "        if d_model % n_heads != 0:\n",
    "            print(\"Warning Head and model dim do not match\")\n",
    "            \n",
    "        self.attn = MultiHeadAttention(d_model, n_heads, d_model//n_heads, use_flash=use_flash)\n",
    "        self.ffn = FFN(d_model)\n",
    "        self.ln1 = torch.nn.LayerNorm(d_model)\n",
    "        self.ln2 = torch.nn.LayerNorm(d_model)\n",
    "        #self.lm_head = torch.nn.Linear(d_model, vocab_size)\n",
    "        \n",
    "    def forward(self, x):\n",
    "        x = x + self.attn(self.ln1(x))\n",
    "        x = x + self.ffn(self.ln2(x))\n",
    "        return x\n",
    "\n",
    "class Transformer(torch.nn.Module):\n",
    "    def __init__(self, vocab_size, d_model, n_blocks=2, head_size=16, n_heads=4, use_flash=True, device=torch.device(\"cpu\")):\n",
    "        super(Transformer, self).__init__()\n",
    "        self.device=device\n",
    "        self.vocab_size = vocab_size\n",
    "        #self.W = torch.nn.Linear(vocab_size, vocab_size, bias=None)\n",
    "        self.emb = torch.nn.Embedding(vocab_size, d_model)\n",
    "        self.pos_emb = torch.nn.Embedding(block_size, d_model)\n",
    "        \n",
    "        #self.attnhead = AttentionHead(d_model, head_size)\n",
    "        \n",
    "        if d_model % n_heads != 0:\n",
    "            print(\"Warning: Head and model dim do not match\")\n",
    "        \n",
    "        #self.multi_head_attn = MultiHeadAttention(d_model, n_heads, d_model//n_heads, use_flash=use_flash)\n",
    "        self.blocks = torch.nn.Sequential(*[Block(d_model, n_heads, use_flash=use_flash) for _ in range(n_blocks)])\n",
    "        self.ln = torch.nn.LayerNorm(d_model)\n",
    "        \n",
    "        self.lm_head = torch.nn.Linear(d_model, vocab_size)\n",
    "        self.apply(self.init)\n",
    "        \n",
    "    \n",
    "    def init(self, m):\n",
    "        if isinstance(m, torch.nn.Linear):\n",
    "            torch.nn.init.normal_(m.weight, mean=0.0, std=0.02)\n",
    "            if m.bias != None:\n",
    "                torch.nn.init.constant_(m.bias, 0.0)\n",
    "            \n",
    "        if isinstance(m, torch.nn.Embedding):\n",
    "            torch.nn.init.normal_(m.weight, mean=0.0, std=0.02)\n",
    "    \n",
    "    def forward(self, x, targets=None, batch=True):\n",
    "        #x = self.W(x)\n",
    "        if batch == False:\n",
    "            x = x.unsqueeze(0)\n",
    "                    \n",
    "        B, T = x.shape\n",
    "        x = self.emb(x)\n",
    "\n",
    "        pos_enc = self.pos_emb(torch.arange(T, device=self.device))\n",
    "        x = x + pos_enc\n",
    "        \n",
    "        #x = self.multi_head_attn(x)\n",
    "        x = self.blocks(x)\n",
    "        x = self.ln(x)\n",
    "        \n",
    "        #x = self.attnhead(x)\n",
    "        x = self.lm_head(x)\n",
    "        \n",
    "        if targets is not None:\n",
    "            B, T, C = x.shape\n",
    "            logits = x.reshape(B*T, C)\n",
    "            targets = targets.reshape(B*T)\n",
    "            loss = torch.nn.functional.cross_entropy(logits, targets)\n",
    "        else:\n",
    "            loss = None\n",
    "        return x, loss\n",
    "    \n",
    "    def generate(self, prompt, n_iters=200):\n",
    "        self.eval()\n",
    "        for _ in range(n_iters):\n",
    "            preds, _ = self(prompt[-block_size:], batch=False)\n",
    "            probs = torch.softmax(preds, dim=-1)\n",
    "            idx = torch.multinomial(probs[0, -1, :], 1)\n",
    "            idx = idx.flatten()\n",
    "\n",
    "            prompt = torch.cat((prompt, idx))\n",
    "        return prompt\n",
    "    "
   ]
  },
  {
   "cell_type": "code",
   "execution_count": 154,
   "metadata": {},
   "outputs": [],
   "source": [
    "device = torch.device(\"cpu\")\n",
    "model = Transformer(vocab_size, n_blocks=4, d_model=32 ,head_size=8, n_heads=4, use_flash=True, device=device).to(device)\n"
   ]
  },
  {
   "cell_type": "code",
   "execution_count": 155,
   "metadata": {},
   "outputs": [],
   "source": [
    "def get_val_loss(data):\n",
    "    model.eval()\n",
    "    data = (data[:block_size * (test_set.size()[0] // block_size)]\n",
    "             .reshape(-1, block_size)\n",
    "             .to(device))\n",
    "            \n",
    "    return model(data[:, :-1], data[:, 1:])[1]"
   ]
  },
  {
   "cell_type": "code",
   "execution_count": 156,
   "metadata": {
    "scrolled": true
   },
   "outputs": [
    {
     "name": "stdout",
     "output_type": "stream",
     "text": [
      "torch.Size([5, 80])\n",
      "tensor(4.1773, device='cuda:0', grad_fn=<NllLossBackward0>)\n",
      "tensor(4.1759, device='cuda:0', grad_fn=<NllLossBackward0>)\n",
      "\n",
      "LUlZPlPLHigSbrl3TdJt!QIhFQtWxWB-n'YLL:Hhb-:i$qX?AQbREZCLA.RaZffVEKfXLIVStD'k3CoeP.;rZtpAPK.BOD&CkJztaeJdEF$pUI!eG-h.s:R!- XTrv\n",
      "''b;bEUE?PgA:vxrK\n",
      "GgVmt;D$ T;J!.uO3V?MZrwcs?Lzu;Z3B&vekJD?vOEO''teu!xvxKz\n"
     ]
    }
   ],
   "source": [
    "device = torch.device(\"cuda\")\n",
    "model = Transformer(vocab_size, n_blocks=4, d_model=32 ,head_size=8, n_heads=4, use_flash=True, device=device).to(device)\n",
    "\n",
    "\n",
    "X = get_batch().to(device)\n",
    "print(X.shape)\n",
    "#test_X = test_set[:block_size * (test_set.size()[0]// block_size)].reshape(-1, block_size).to(device)\n",
    "\n",
    "#print(test_X.shape)\n",
    "print(model(X[:, :-1], X[:, 1:])[1])\n",
    "#print(model(test_X[:, :-1], test_X[:, 1:])[1])\n",
    "print(get_val_loss(test_set))\n",
    "\n",
    "prompt = encode(\"\\n\").to(device)\n",
    "tok_generate_text = model.generate(prompt)\n",
    "print(decode(tok_generate_text))"
   ]
  },
  {
   "cell_type": "code",
   "execution_count": 88,
   "metadata": {},
   "outputs": [
    {
     "data": {
      "text/plain": [
       "64"
      ]
     },
     "execution_count": 88,
     "metadata": {},
     "output_type": "execute_result"
    }
   ],
   "source": [
    "16*4"
   ]
  },
  {
   "cell_type": "code",
   "execution_count": 108,
   "metadata": {
    "scrolled": true
   },
   "outputs": [
    {
     "data": {
      "text/plain": [
       "<bound method Module.parameters of Transformer(\n",
       "  (emb): Embedding(65, 32)\n",
       "  (pos_emb): Embedding(80, 32)\n",
       "  (blocks): Sequential(\n",
       "    (0): Block(\n",
       "      (attn): MultiHeadAttention(\n",
       "        (heads): ModuleList(\n",
       "          (0-3): 4 x AttentionHead(\n",
       "            (q): Linear(in_features=32, out_features=8, bias=False)\n",
       "            (k): Linear(in_features=32, out_features=8, bias=False)\n",
       "            (v): Linear(in_features=32, out_features=8, bias=False)\n",
       "          )\n",
       "        )\n",
       "        (attn_n): Linear(in_features=32, out_features=96, bias=False)\n",
       "        (proj): Linear(in_features=32, out_features=32, bias=False)\n",
       "        (drop_out): Dropout(p=0.1, inplace=False)\n",
       "      )\n",
       "      (ffn): FFN(\n",
       "        (fn): Sequential(\n",
       "          (0): Linear(in_features=32, out_features=128, bias=True)\n",
       "          (1): ReLU()\n",
       "          (2): Linear(in_features=128, out_features=32, bias=True)\n",
       "          (3): Dropout(p=0.1, inplace=False)\n",
       "        )\n",
       "      )\n",
       "      (ln1): LayerNorm((32,), eps=1e-05, elementwise_affine=True)\n",
       "      (ln2): LayerNorm((32,), eps=1e-05, elementwise_affine=True)\n",
       "    )\n",
       "    (1): Block(\n",
       "      (attn): MultiHeadAttention(\n",
       "        (heads): ModuleList(\n",
       "          (0-3): 4 x AttentionHead(\n",
       "            (q): Linear(in_features=32, out_features=8, bias=False)\n",
       "            (k): Linear(in_features=32, out_features=8, bias=False)\n",
       "            (v): Linear(in_features=32, out_features=8, bias=False)\n",
       "          )\n",
       "        )\n",
       "        (attn_n): Linear(in_features=32, out_features=96, bias=False)\n",
       "        (proj): Linear(in_features=32, out_features=32, bias=False)\n",
       "        (drop_out): Dropout(p=0.1, inplace=False)\n",
       "      )\n",
       "      (ffn): FFN(\n",
       "        (fn): Sequential(\n",
       "          (0): Linear(in_features=32, out_features=128, bias=True)\n",
       "          (1): ReLU()\n",
       "          (2): Linear(in_features=128, out_features=32, bias=True)\n",
       "          (3): Dropout(p=0.1, inplace=False)\n",
       "        )\n",
       "      )\n",
       "      (ln1): LayerNorm((32,), eps=1e-05, elementwise_affine=True)\n",
       "      (ln2): LayerNorm((32,), eps=1e-05, elementwise_affine=True)\n",
       "    )\n",
       "    (2): Block(\n",
       "      (attn): MultiHeadAttention(\n",
       "        (heads): ModuleList(\n",
       "          (0-3): 4 x AttentionHead(\n",
       "            (q): Linear(in_features=32, out_features=8, bias=False)\n",
       "            (k): Linear(in_features=32, out_features=8, bias=False)\n",
       "            (v): Linear(in_features=32, out_features=8, bias=False)\n",
       "          )\n",
       "        )\n",
       "        (attn_n): Linear(in_features=32, out_features=96, bias=False)\n",
       "        (proj): Linear(in_features=32, out_features=32, bias=False)\n",
       "        (drop_out): Dropout(p=0.1, inplace=False)\n",
       "      )\n",
       "      (ffn): FFN(\n",
       "        (fn): Sequential(\n",
       "          (0): Linear(in_features=32, out_features=128, bias=True)\n",
       "          (1): ReLU()\n",
       "          (2): Linear(in_features=128, out_features=32, bias=True)\n",
       "          (3): Dropout(p=0.1, inplace=False)\n",
       "        )\n",
       "      )\n",
       "      (ln1): LayerNorm((32,), eps=1e-05, elementwise_affine=True)\n",
       "      (ln2): LayerNorm((32,), eps=1e-05, elementwise_affine=True)\n",
       "    )\n",
       "    (3): Block(\n",
       "      (attn): MultiHeadAttention(\n",
       "        (heads): ModuleList(\n",
       "          (0-3): 4 x AttentionHead(\n",
       "            (q): Linear(in_features=32, out_features=8, bias=False)\n",
       "            (k): Linear(in_features=32, out_features=8, bias=False)\n",
       "            (v): Linear(in_features=32, out_features=8, bias=False)\n",
       "          )\n",
       "        )\n",
       "        (attn_n): Linear(in_features=32, out_features=96, bias=False)\n",
       "        (proj): Linear(in_features=32, out_features=32, bias=False)\n",
       "        (drop_out): Dropout(p=0.1, inplace=False)\n",
       "      )\n",
       "      (ffn): FFN(\n",
       "        (fn): Sequential(\n",
       "          (0): Linear(in_features=32, out_features=128, bias=True)\n",
       "          (1): ReLU()\n",
       "          (2): Linear(in_features=128, out_features=32, bias=True)\n",
       "          (3): Dropout(p=0.1, inplace=False)\n",
       "        )\n",
       "      )\n",
       "      (ln1): LayerNorm((32,), eps=1e-05, elementwise_affine=True)\n",
       "      (ln2): LayerNorm((32,), eps=1e-05, elementwise_affine=True)\n",
       "    )\n",
       "  )\n",
       "  (lm_head): Linear(in_features=32, out_features=65, bias=True)\n",
       ")>"
      ]
     },
     "execution_count": 108,
     "metadata": {},
     "output_type": "execute_result"
    }
   ],
   "source": [
    "model.parameters"
   ]
  },
  {
   "cell_type": "code",
   "execution_count": 157,
   "metadata": {},
   "outputs": [],
   "source": [
    "optimizer = torch.optim.Adam(model.parameters(), lr=3e-3)\n",
    "losses = []"
   ]
  },
  {
   "cell_type": "code",
   "execution_count": 158,
   "metadata": {
    "scrolled": true
   },
   "outputs": [
    {
     "name": "stdout",
     "output_type": "stream",
     "text": [
      "2.040860176086426 2.3454015254974365\n",
      "1.9099301099777222 2.093977689743042\n",
      "1.8384230136871338 1.7801967859268188\n",
      "1.802059292793274 1.6884621381759644\n",
      "1.776495099067688 1.644555926322937\n",
      "1.7742501497268677 1.61770498752594\n",
      "1.7656103372573853 1.597503423690796\n",
      "1.7451114654541016 1.5829341411590576\n",
      "1.7327194213867188 1.5705877542495728\n",
      "1.7505772113800049 1.5615570545196533\n",
      "tensor(1.5333, device='cuda:0', grad_fn=<NllLossBackward0>)\n",
      "took 47.0404\n"
     ]
    }
   ],
   "source": [
    "# train\n",
    "import time\n",
    "\n",
    "start = time.time()\n",
    "\n",
    "train_loss = []\n",
    "model.train()\n",
    "for e in range(5000):\n",
    "    optimizer.zero_grad()\n",
    "    X = get_batch(bs=32).to(device)\n",
    "\n",
    "    preds, loss = model(X[:, :-1], X[:, 1:])\n",
    "    train_loss.append(loss.item())\n",
    "\n",
    "    if (e+1)%500 == 0:\n",
    "        losses.append([get_val_loss(test_set).item(),\n",
    "                        torch.mean(torch.tensor(train_loss)[-1000:]).item()])\n",
    "        #print(get_val_loss(test_set), torch.mean(torch.tensor(losses)[-1000:]))\n",
    "        print(losses[-1][0], losses[-1][1])\n",
    "        \n",
    "    \n",
    "\n",
    "    loss.backward()\n",
    "    optimizer.step()\n",
    "\n",
    "end = time.time()\n",
    "print(loss)\n",
    "\n",
    "model.eval()\n",
    "print(\"took {0:4.4f}\".format(end-start))"
   ]
  },
  {
   "cell_type": "code",
   "execution_count": 139,
   "metadata": {},
   "outputs": [],
   "source": [
    "# time taken no flash 14.65\n",
    "# time taken with flash 15.17\n",
    "\n",
    "# validation loss with small model d_model = 32 head_size = 8"
   ]
  },
  {
   "cell_type": "code",
   "execution_count": 140,
   "metadata": {},
   "outputs": [
    {
     "data": {
      "text/plain": [
       "[[2.0893301963806152, 2.3431203365325928],\n",
       " [1.9896214008331299, 2.150848627090454],\n",
       " [1.9536253213882446, 1.9087660312652588],\n",
       " [1.9321609735488892, 1.833709478378296],\n",
       " [1.913248896598816, 1.7929292917251587],\n",
       " [1.9095667600631714, 1.7657725811004639],\n",
       " [1.890507698059082, 1.7473843097686768],\n",
       " [1.8769731521606445, 1.7337236404418945],\n",
       " [1.8714709281921387, 1.7235218286514282],\n",
       " [1.8712762594223022, 1.7156797647476196]]"
      ]
     },
     "execution_count": 140,
     "metadata": {},
     "output_type": "execute_result"
    }
   ],
   "source": [
    "losses"
   ]
  },
  {
   "cell_type": "code",
   "execution_count": 141,
   "metadata": {},
   "outputs": [
    {
     "data": {
      "text/plain": [
       "torch.Size([10, 2])"
      ]
     },
     "execution_count": 141,
     "metadata": {},
     "output_type": "execute_result"
    }
   ],
   "source": [
    "loss_history = torch.tensor(losses)\n",
    "loss_history.shape"
   ]
  },
  {
   "cell_type": "code",
   "execution_count": 142,
   "metadata": {},
   "outputs": [
    {
     "data": {
      "text/plain": [
       "[<matplotlib.lines.Line2D at 0x7fe2706bf040>]"
      ]
     },
     "execution_count": 142,
     "metadata": {},
     "output_type": "execute_result"
    },
    {
     "data": {
      "image/png": "[encoded data removed]",
      "text/plain": [
       "<Figure size 432x288 with 1 Axes>"
      ]
     },
     "metadata": {
      "needs_background": "light"
     },
     "output_type": "display_data"
    }
   ],
   "source": [
    "plt.plot(loss_history[:, 0])\n",
    "plt.plot(loss_history[:, 1])"
   ]
  },
  {
   "cell_type": "code",
   "execution_count": null,
   "metadata": {},
   "outputs": [],
   "source": []
  },
  {
   "cell_type": "code",
   "execution_count": 159,
   "metadata": {
    "scrolled": true
   },
   "outputs": [
    {
     "name": "stdout",
     "output_type": "stream",
     "text": [
      "\n",
      "TIRICABy hell?\n",
      "\n",
      "For RI sfanchet!\n",
      "What theveaneanofor him damausthaidoisthaycinghed!\n",
      "\n",
      "ROFOLYONCE:\n",
      "Whereforiouse, to the wrenguit make I akill revenging too hafther:\n",
      "Have, 'twake chasterity Cilous Laste-limbh.\n",
      "\n",
      "YORRHAS:\n",
      "Ghat to comisperet peak whosty mind He\n",
      "saigch is was thee La FONTEO:\n",
      "It now alone set traitor of these cave,\n",
      "His comis's hatagh, where is thirk he great,\n",
      "To sear, good gite: Keecutio, his sitn alone; met with thounst, welles, chois such two xispor,\n",
      "It firmeriash, the eidvery I, quisepher ofuch the loling hangst condachory one\n",
      "As seall forf?\n",
      "But anljury\n",
      "\n",
      "WARWICK:\n",
      "I faither former Ciaugalol no revingned--\n",
      "\n",
      "Pithnesty, Had ENhangbale! You, his compendionsmen, and.\n",
      "\n",
      "FORD:\n",
      "Why, thou before, thee wormy thou not bont the tto these comestine; I havery windren?\n",
      "\n",
      "\n",
      "DUCKENCENTIO:\n",
      "Ladicy'e\n"
     ]
    }
   ],
   "source": [
    "prompt = encode(\"\\n\").to(device)\n",
    "tok_generated_text = model.generate(prompt, n_iters=800)\n",
    "print(decode(tok_generated_text))"
   ]
  },
  {
   "cell_type": "code",
   "execution_count": null,
   "metadata": {},
   "outputs": [],
   "source": []
  },
  {
   "cell_type": "code",
   "execution_count": null,
   "metadata": {},
   "outputs": [],
   "source": []
  },
  {
   "cell_type": "code",
   "execution_count": null,
   "metadata": {},
   "outputs": [],
   "source": []
  },
  {
   "cell_type": "code",
   "execution_count": 31,
   "metadata": {},
   "outputs": [
    {
     "name": "stdout",
     "output_type": "stream",
     "text": [
      "torch.Size([6, 4, 5, 15])\n"
     ]
    },
    {
     "data": {
      "text/plain": [
       "tensor([[ 36.1603,     -inf,     -inf,     -inf,     -inf],\n",
       "        [-12.5916,  -1.1145,     -inf,     -inf,     -inf],\n",
       "        [-23.4505, -34.9204,  46.3230,     -inf,     -inf],\n",
       "        [-24.8290, -11.0581, -38.6922, -23.3168,     -inf],\n",
       "        [ 11.2612, -10.1524,  24.9597,  16.9123,  -1.6959]])"
      ]
     },
     "execution_count": 31,
     "metadata": {},
     "output_type": "execute_result"
    }
   ],
   "source": [
    "# parallel MultiHeadAttention\n",
    "q = torch.randn(4, 15, 8)\n",
    "k = torch.randn(4, 15, 8)\n",
    "v = torch.randn(4, 15, 8)\n",
    "\n",
    "x = torch.randn(6, 4, 5, 15)  # B, H , T, C\n",
    "\n",
    "Q = x @ q\n",
    "print(x.shape)\n",
    "K = x @ k\n",
    "V = x @ v\n",
    "\n",
    "wei = Q @ K.transpose(-2, -1)\n",
    "\n",
    "wei.shape\n",
    "\n",
    "#wei =  q(x) @ k(x).transpose(-2, -1)\n",
    "wei.masked_fill(torch.tril(torch.ones(5, 5)) == 0, value=float(\"-inf\"))[0][0]\n",
    "#torch.nn.functional.softmax(wei, dim=-1)\n",
    "\n",
    "#((wei @ v(x)).reshape(6, 10, -1)).shape"
   ]
  },
  {
   "cell_type": "code",
   "execution_count": 929,
   "metadata": {},
   "outputs": [
    {
     "data": {
      "text/plain": [
       "True"
      ]
     },
     "execution_count": 929,
     "metadata": {},
     "output_type": "execute_result"
    }
   ],
   "source": [
    "a = torch.randn(3, 4, 2)\n",
    "b = torch.randn(1, 5, 4)\n",
    "\n",
    "y1 = b @ a\n",
    "y2 = torch.zeros(3, 5, 2)\n",
    "\n",
    "for i in range(3):\n",
    "    y2[i] = b[0] @ a[i]\n",
    "    \n",
    "torch.allclose(y2, y1)"
   ]
  },
  {
   "cell_type": "code",
   "execution_count": 877,
   "metadata": {},
   "outputs": [
    {
     "data": {
      "text/plain": [
       "tensor([[ 23.8145,     -inf,     -inf,     -inf,     -inf],\n",
       "        [-34.0588,  -1.5120,     -inf,     -inf,     -inf],\n",
       "        [  8.4824, -12.2511,  -0.3416,     -inf,     -inf],\n",
       "        [-22.9814,  13.8634,   8.0157,  54.3168,     -inf],\n",
       "        [-23.0952, -36.7661, -44.1098, -48.8255, -26.4376]])"
      ]
     },
     "execution_count": 877,
     "metadata": {},
     "output_type": "execute_result"
    }
   ],
   "source": [
    "# parallel MultiHeadAttention\n",
    "q = torch.randn(15, 8)\n",
    "k = torch.randn(15, 8)\n",
    "v = torch.randn(15, 8)\n",
    "\n",
    "x = torch.randn(6, 5, 15)  # B, H , T, C\n",
    "\n",
    "Q = x @ q\n",
    "K = x @ k\n",
    "V = x @ v\n",
    "\n",
    "wei = Q @ K.transpose(-2, -1)\n",
    "\n",
    "wei.shape\n",
    "\n",
    "#wei =  q(x) @ k(x).transpose(-2, -1)\n",
    "wei.masked_fill(torch.tril(torch.ones(5, 5)) == 0, value=float(\"-inf\"))[0]\n",
    "#torch.nn.functional.softmax(wei, dim=-1)\n",
    "\n",
    "#((wei @ v(x)).reshape(6, 10, -1)).shape"
   ]
  },
  {
   "cell_type": "code",
   "execution_count": null,
   "metadata": {},
   "outputs": [],
   "source": [
    "torch.tensor"
   ]
  },
  {
   "cell_type": "code",
   "execution_count": null,
   "metadata": {},
   "outputs": [],
   "source": []
  },
  {
   "cell_type": "code",
   "execution_count": null,
   "metadata": {},
   "outputs": [],
   "source": []
  },
  {
   "cell_type": "code",
   "execution_count": null,
   "metadata": {},
   "outputs": [],
   "source": []
  },
  {
   "cell_type": "code",
   "execution_count": 904,
   "metadata": {
    "scrolled": true
   },
   "outputs": [
    {
     "name": "stdout",
     "output_type": "stream",
     "text": [
      "Parameter containing:\n",
      "tensor([[ 0.8584,  0.7792, -2.8490,  ...,  0.5985,  0.0632,  0.3100],\n",
      "        [ 0.2491,  0.7193, -0.6177,  ..., -1.2455,  0.0323,  0.8273],\n",
      "        [-0.1170, -0.7733, -0.5159,  ..., -0.6091,  0.7261, -1.7019],\n",
      "        ...,\n",
      "        [-0.8056, -1.0763,  0.4098,  ...,  0.4659, -1.4481, -1.7444],\n",
      "        [ 0.5956, -1.7104, -2.6853,  ...,  0.6092, -0.3064, -0.9494],\n",
      "        [ 1.3597,  1.0070,  2.3976,  ...,  1.2521, -0.5891, -0.2853]],\n",
      "       device='cuda:0', requires_grad=True)\n",
      "Parameter containing:\n",
      "tensor([[ 0.2895, -0.0591, -0.0274,  ..., -1.1045,  1.3969,  0.3599],\n",
      "        [ 2.1078, -1.9776,  0.9606,  ...,  0.1297, -0.4242,  0.7378],\n",
      "        [ 0.1155,  0.6638,  1.3214,  ...,  0.9679,  0.3200,  0.3237],\n",
      "        ...,\n",
      "        [-0.2660, -1.0125,  0.5276,  ...,  0.7452,  3.4497, -0.6088],\n",
      "        [ 0.0734,  2.0302,  0.6456,  ...,  0.0857,  0.9984, -0.9216],\n",
      "        [ 0.4457,  0.8862,  0.6299,  ..., -0.5963, -0.8404, -1.9163]],\n",
      "       device='cuda:0', requires_grad=True)\n",
      "Parameter containing:\n",
      "tensor([[[-0.1678,  0.1479,  0.0776,  ..., -0.0865,  0.1161, -0.0252],\n",
      "         [-0.0804, -0.1293,  0.0765,  ...,  0.1755, -0.0958,  0.1438],\n",
      "         [ 0.0392, -0.1237, -0.1113,  ...,  0.0979, -0.1004,  0.1363],\n",
      "         ...,\n",
      "         [-0.1660, -0.1206, -0.1674,  ...,  0.1093,  0.1175,  0.1155],\n",
      "         [ 0.0221, -0.0616, -0.1019,  ..., -0.0023,  0.0194,  0.0408],\n",
      "         [-0.1379,  0.1270, -0.0905,  ..., -0.1225,  0.0733,  0.0078]],\n",
      "\n",
      "        [[-0.0947,  0.0090, -0.0064,  ...,  0.0773, -0.0927,  0.0789],\n",
      "         [-0.0263,  0.0529, -0.1493,  ...,  0.1744, -0.1480,  0.0586],\n",
      "         [ 0.0300, -0.1202,  0.0693,  ..., -0.0673, -0.0338, -0.1423],\n",
      "         ...,\n",
      "         [ 0.1382,  0.0245,  0.0075,  ..., -0.1758,  0.0616, -0.1008],\n",
      "         [ 0.1047,  0.0373,  0.1583,  ..., -0.1578,  0.0164, -0.1270],\n",
      "         [ 0.1672,  0.1731, -0.0711,  ..., -0.1357,  0.0961, -0.1106]]],\n",
      "       device='cuda:0', requires_grad=True)\n",
      "Parameter containing:\n",
      "tensor([[[ 0.1073,  0.0683,  0.1307,  ..., -0.0646, -0.1751,  0.1513],\n",
      "         [ 0.0172, -0.0055, -0.1472,  ..., -0.0972, -0.0783,  0.1449],\n",
      "         [ 0.0806,  0.1154,  0.0534,  ..., -0.1172, -0.0952,  0.0474],\n",
      "         ...,\n",
      "         [ 0.0038, -0.0576, -0.1082,  ..., -0.1576,  0.0390, -0.1080],\n",
      "         [-0.0494, -0.0674, -0.0273,  ..., -0.0499, -0.0972,  0.1597],\n",
      "         [-0.1039, -0.0776, -0.1465,  ..., -0.0455,  0.1711, -0.0615]],\n",
      "\n",
      "        [[ 0.0948,  0.1546,  0.0920,  ...,  0.0326, -0.1456,  0.0897],\n",
      "         [-0.1150,  0.0880,  0.0787,  ..., -0.1264, -0.0197, -0.1197],\n",
      "         [ 0.0042, -0.0034, -0.1067,  ...,  0.1721,  0.0118, -0.1461],\n",
      "         ...,\n",
      "         [ 0.1046,  0.1693,  0.0127,  ...,  0.1712, -0.1644,  0.0451],\n",
      "         [ 0.1713,  0.0307, -0.0313,  ..., -0.0217,  0.1729,  0.0164],\n",
      "         [ 0.0446,  0.0147,  0.1250,  ...,  0.0823,  0.1436,  0.0807]]],\n",
      "       device='cuda:0', requires_grad=True)\n",
      "Parameter containing:\n",
      "tensor([[[ 0.0738,  0.0051, -0.1031,  ..., -0.1222, -0.0727,  0.1096],\n",
      "         [-0.0477, -0.0327, -0.0612,  ...,  0.1468, -0.0542,  0.1688],\n",
      "         [-0.0995, -0.1025, -0.1280,  ..., -0.1316, -0.1378, -0.1517],\n",
      "         ...,\n",
      "         [-0.0596, -0.0452, -0.0586,  ...,  0.0131, -0.0932,  0.1604],\n",
      "         [-0.0441,  0.0636, -0.0246,  ...,  0.1064,  0.0560, -0.0248],\n",
      "         [ 0.0859,  0.0641,  0.1457,  ..., -0.0324,  0.0341, -0.0656]],\n",
      "\n",
      "        [[-0.1205,  0.1380, -0.0015,  ...,  0.1737,  0.0572, -0.0110],\n",
      "         [-0.0357,  0.1577, -0.0547,  ...,  0.1155, -0.1208, -0.1254],\n",
      "         [-0.0418, -0.1134,  0.0445,  ...,  0.0484, -0.0516,  0.0641],\n",
      "         ...,\n",
      "         [ 0.1486, -0.0767,  0.0877,  ...,  0.1325, -0.1685,  0.1264],\n",
      "         [ 0.0185, -0.1647,  0.1074,  ..., -0.0725,  0.1374, -0.1441],\n",
      "         [-0.1330,  0.0953,  0.1055,  ...,  0.0024, -0.0833,  0.0655]]],\n",
      "       device='cuda:0', requires_grad=True)\n",
      "Parameter containing:\n",
      "tensor([[-0.0347, -0.1255,  0.0840,  ..., -0.0250,  0.0070,  0.0624],\n",
      "        [ 0.0296, -0.0631, -0.1735,  ..., -0.0112, -0.0167,  0.0197],\n",
      "        [-0.0229, -0.0922, -0.0656,  ...,  0.1624,  0.1051,  0.1651],\n",
      "        ...,\n",
      "        [ 0.1192,  0.1575, -0.1387,  ..., -0.1240,  0.1159,  0.1430],\n",
      "        [-0.1499,  0.0162,  0.0539,  ...,  0.0356,  0.0699,  0.1112],\n",
      "        [-0.0284,  0.0142, -0.0051,  ..., -0.0653, -0.0894,  0.1110]],\n",
      "       device='cuda:0', requires_grad=True)\n",
      "Parameter containing:\n",
      "tensor([ 0.0517,  0.1345,  0.0721,  0.0226, -0.0614,  0.0663, -0.0824, -0.0881,\n",
      "        -0.0595,  0.0592, -0.0318,  0.0960, -0.0809,  0.1392, -0.1047, -0.0475,\n",
      "        -0.0381, -0.0816, -0.0568, -0.0980,  0.1625, -0.1027,  0.1441,  0.0186,\n",
      "        -0.0991,  0.1696,  0.0921,  0.1181,  0.1503, -0.1748,  0.0072,  0.0506,\n",
      "        -0.0758, -0.1395,  0.1153, -0.0352, -0.1264,  0.1290,  0.0737, -0.0145,\n",
      "         0.0076, -0.0889,  0.0200, -0.0042,  0.0836, -0.0840, -0.1236,  0.1305,\n",
      "         0.1522,  0.0096, -0.1073, -0.1659,  0.1749, -0.1028, -0.1766,  0.0252,\n",
      "         0.0881,  0.0581, -0.1425,  0.0998, -0.1505,  0.0043,  0.1233, -0.0390,\n",
      "        -0.1522], device='cuda:0', requires_grad=True)\n"
     ]
    }
   ],
   "source": [
    "for param in model.parameters():\n",
    "    print(param)"
   ]
  },
  {
   "cell_type": "code",
   "execution_count": 905,
   "metadata": {},
   "outputs": [
    {
     "data": {
      "text/plain": [
       "torch.Size([5, 80])"
      ]
     },
     "execution_count": 905,
     "metadata": {},
     "output_type": "execute_result"
    }
   ],
   "source": [
    "X.shape"
   ]
  },
  {
   "cell_type": "code",
   "execution_count": 906,
   "metadata": {},
   "outputs": [
    {
     "data": {
      "text/plain": [
       "<bound method Module.parameters of Transformer(\n",
       "  (emb): Embedding(65, 32)\n",
       "  (pos_emb): Embedding(80, 32)\n",
       "  (multi_head_attn): MultiHeadAttention()\n",
       "  (lm_head): Linear(in_features=32, out_features=65, bias=True)\n",
       ")>"
      ]
     },
     "execution_count": 906,
     "metadata": {},
     "output_type": "execute_result"
    }
   ],
   "source": [
    "model.parameters"
   ]
  },
  {
   "cell_type": "code",
   "execution_count": 984,
   "metadata": {},
   "outputs": [],
   "source": [
    "losses = []"
   ]
  },
  {
   "cell_type": "code",
   "execution_count": 799,
   "metadata": {},
   "outputs": [
    {
     "data": {
      "text/plain": [
       "tensor([[0.0654, 0.5625, 0.9809],\n",
       "        [0.7649, 0.0284, 0.5907],\n",
       "        [0.0445, 0.2730, 0.1248],\n",
       "        [0.4442, 0.8522, 0.6855],\n",
       "        [0.3698, 0.7978, 0.6498]])"
      ]
     },
     "execution_count": 799,
     "metadata": {},
     "output_type": "execute_result"
    }
   ],
   "source": [
    "torch.nn.init.uniform_(torch.empty(5, 3), 0.0, 1)"
   ]
  },
  {
   "cell_type": "code",
   "execution_count": 704,
   "metadata": {},
   "outputs": [],
   "source": [
    "# single attention head with size d_model = 32 d_head = 16\n",
    "# loss = 2.28\n",
    "# mulit head attention with size d_model 32 d_head = 16 n_heads = 4\n",
    "# loss 1.97\n",
    "# with parallel heads (cursed matrix multiplication)\n",
    "# loss 1.54"
   ]
  },
  {
   "cell_type": "code",
   "execution_count": 980,
   "metadata": {},
   "outputs": [
    {
     "data": {
      "text/plain": [
       "tensor(2.1221, grad_fn=<NllLossBackward0>)"
      ]
     },
     "execution_count": 980,
     "metadata": {},
     "output_type": "execute_result"
    }
   ],
   "source": [
    "loss"
   ]
  },
  {
   "cell_type": "code",
   "execution_count": 136,
   "metadata": {},
   "outputs": [
    {
     "data": {
      "text/plain": [
       "tensor([-0.1698,  2.3261])"
      ]
     },
     "execution_count": 136,
     "metadata": {},
     "output_type": "execute_result"
    }
   ],
   "source": [
    "torch.cat((torch.randn(1), torch.randn(1)))"
   ]
  },
  {
   "cell_type": "code",
   "execution_count": null,
   "metadata": {},
   "outputs": [],
   "source": []
  },
  {
   "cell_type": "code",
   "execution_count": null,
   "metadata": {},
   "outputs": [],
   "source": [
    "model = TransformerModel()"
   ]
  },
  {
   "cell_type": "code",
   "execution_count": null,
   "metadata": {},
   "outputs": [],
   "source": [
    "# build "
   ]
  },
  {
   "cell_type": "code",
   "execution_count": 31,
   "metadata": {},
   "outputs": [
    {
     "name": "stderr",
     "output_type": "stream",
     "text": [
      "<ipython-input-31-e129a4bcfea0>:2: UserWarning: Implicit dimension choice for softmax has been deprecated. Change the call to include dim=X as an argument.\n",
      "  torch.nn.functional.softmax(x @ x.T) @ x\n"
     ]
    },
    {
     "data": {
      "text/plain": [
       "tensor([[3.5000],\n",
       "        [6.4207],\n",
       "        [6.8435],\n",
       "        [6.9476],\n",
       "        [6.9813],\n",
       "        [6.9932],\n",
       "        [6.9975],\n",
       "        [6.9991]])"
      ]
     },
     "execution_count": 31,
     "metadata": {},
     "output_type": "execute_result"
    }
   ],
   "source": []
  },
  {
   "cell_type": "code",
   "execution_count": null,
   "metadata": {},
   "outputs": [],
   "source": []
  },
  {
   "cell_type": "code",
   "execution_count": null,
   "metadata": {},
   "outputs": [],
   "source": []
  }
 ],
 "metadata": {
  "kernelspec": {
   "display_name": "Python 3",
   "language": "python",
   "name": "python3"
  },
  "language_info": {
   "codemirror_mode": {
    "name": "ipython",
    "version": 3
   },
   "file_extension": ".py",
   "mimetype": "text/x-python",
   "name": "python",
   "nbconvert_exporter": "python",
   "pygments_lexer": "ipython3",
   "version": "3.8.10"
  }
 },
 "nbformat": 4,
 "nbformat_minor": 4
}
