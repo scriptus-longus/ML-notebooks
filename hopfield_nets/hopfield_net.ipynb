{
 "cells": [
  {
   "cell_type": "code",
   "execution_count": 210,
   "metadata": {},
   "outputs": [],
   "source": [
    "import numpy as np\n",
    "import matplotlib.pyplot as plt\n",
    "%matplotlib inline"
   ]
  },
  {
   "cell_type": "code",
   "execution_count": 223,
   "metadata": {},
   "outputs": [],
   "source": [
    "patterns = [\n",
    "    np.array([[1, 1, 1], [-1, 1, -1], [-1, 1, -1]]),\n",
    "    np.array([[-1, 1, -1], [1, 1, 1], [-1, 1, -1]]),\n",
    "    np.array([[1, 1, 1], [-1, -1, -1], [1, 1, 1]]),\n",
    "    np.array([[-1, 1, -1], [-1, -1, 1], [1, 1, 1]])\n",
    "]"
   ]
  },
  {
   "cell_type": "code",
   "execution_count": 386,
   "metadata": {},
   "outputs": [
    {
     "data": {
      "text/plain": [
       "<matplotlib.image.AxesImage at 0x7f679faa6e20>"
      ]
     },
     "execution_count": 386,
     "metadata": {},
     "output_type": "execute_result"
    },
    {
     "data": {
      "image/png": "[encoded data removed]",
      "text/plain": [
       "<Figure size 432x288 with 1 Axes>"
      ]
     },
     "metadata": {
      "needs_background": "light"
     },
     "output_type": "display_data"
    }
   ],
   "source": [
    "pattern = np.array([[1, 1, 1], [-1, 1, -1], [-1, 1, -1]])\n",
    "plt.imshow(patterns[2])"
   ]
  },
  {
   "cell_type": "code",
   "execution_count": 212,
   "metadata": {},
   "outputs": [
    {
     "data": {
      "text/plain": [
       "<matplotlib.image.AxesImage at 0x7f67a19ef940>"
      ]
     },
     "execution_count": 212,
     "metadata": {},
     "output_type": "execute_result"
    },
    {
     "data": {
      "image/png": "[encoded data removed]",
      "text/plain": [
       "<Figure size 432x288 with 1 Axes>"
      ]
     },
     "metadata": {
      "needs_background": "light"
     },
     "output_type": "display_data"
    }
   ],
   "source": [
    "alt_pattern = np.array([[-1, 1, -1], [-1, -1, 1], [1, 1, 1]])\n",
    "plt.imshow(alt_pattern)"
   ]
  },
  {
   "cell_type": "code",
   "execution_count": 401,
   "metadata": {},
   "outputs": [],
   "source": [
    "W = np.zeros((9, 9))\n",
    "lr = 0.1"
   ]
  },
  {
   "cell_type": "code",
   "execution_count": 402,
   "metadata": {},
   "outputs": [],
   "source": [
    "for pattern in patterns:\n",
    "    W +=  np.outer(pattern.flatten(), pattern.flatten())\n"
   ]
  },
  {
   "cell_type": "code",
   "execution_count": 403,
   "metadata": {},
   "outputs": [
    {
     "data": {
      "text/plain": [
       "array([[ 0.,  0.,  4., -2.,  0., -4.,  0.,  0.,  0.],\n",
       "       [ 0.,  0.,  0., -2.,  0.,  0.,  0.,  4.,  0.],\n",
       "       [ 4.,  0.,  0., -2.,  0., -4.,  0.,  0.,  0.],\n",
       "       [-2., -2., -2.,  0.,  2.,  2., -2., -2., -2.],\n",
       "       [ 0.,  0.,  0.,  2.,  0.,  0., -4.,  0., -4.],\n",
       "       [-4.,  0., -4.,  2.,  0.,  0.,  0.,  0.,  0.],\n",
       "       [ 0.,  0.,  0., -2., -4.,  0.,  0.,  0.,  4.],\n",
       "       [ 0.,  4.,  0., -2.,  0.,  0.,  0.,  0.,  0.],\n",
       "       [ 0.,  0.,  0., -2., -4.,  0.,  4.,  0.,  0.]])"
      ]
     },
     "execution_count": 403,
     "metadata": {},
     "output_type": "execute_result"
    }
   ],
   "source": [
    "np.fill_diagonal(W, 0)\n",
    "W"
   ]
  },
  {
   "cell_type": "code",
   "execution_count": 409,
   "metadata": {},
   "outputs": [],
   "source": [
    "train = np.array([[-1, 1, -1], [-1, -1, -1], [1, 1, -1]])"
   ]
  },
  {
   "cell_type": "code",
   "execution_count": 410,
   "metadata": {},
   "outputs": [
    {
     "data": {
      "text/plain": [
       "<matplotlib.image.AxesImage at 0x7f679f7089d0>"
      ]
     },
     "execution_count": 410,
     "metadata": {},
     "output_type": "execute_result"
    },
    {
     "data": {
      "image/png": "[encoded data removed]",
      "text/plain": [
       "<Figure size 432x288 with 1 Axes>"
      ]
     },
     "metadata": {
      "needs_background": "light"
     },
     "output_type": "display_data"
    }
   ],
   "source": [
    "plt.imshow(train)"
   ]
  },
  {
   "cell_type": "code",
   "execution_count": 418,
   "metadata": {},
   "outputs": [],
   "source": [
    "def test(a, b, c, d):\n",
    "    print(a, b, c, d)"
   ]
  },
  {
   "cell_type": "code",
   "execution_count": 420,
   "metadata": {},
   "outputs": [
    {
     "name": "stdout",
     "output_type": "stream",
     "text": [
      "1 2 3 4\n"
     ]
    }
   ],
   "source": [
    "x = [1, 2, 3, 4]\n",
    "test(*x)"
   ]
  },
  {
   "cell_type": "code",
   "execution_count": 411,
   "metadata": {},
   "outputs": [],
   "source": [
    "activation = train.copy()"
   ]
  },
  {
   "cell_type": "code",
   "execution_count": 417,
   "metadata": {},
   "outputs": [
    {
     "data": {
      "text/plain": [
       "[1.0, 1.0, 1.0, 0.0, 0.0, 0.0, 1.0, 1.0, 1.0]"
      ]
     },
     "execution_count": 417,
     "metadata": {},
     "output_type": "execute_result"
    }
   ],
   "source": [
    "activation.flatten().tolist()"
   ]
  },
  {
   "cell_type": "code",
   "execution_count": 412,
   "metadata": {
    "scrolled": true
   },
   "outputs": [
    {
     "name": "stdout",
     "output_type": "stream",
     "text": [
      "[[ 0.2]\n",
      " [ 0.6]\n",
      " [ 0.2]\n",
      " [-0.4]\n",
      " [-0.2]\n",
      " [ 0.6]\n",
      " [ 0.2]\n",
      " [ 0.6]\n",
      " [ 1. ]]\n",
      "[[-0.08]\n",
      " [ 0.32]\n",
      " [-0.08]\n",
      " [-0.48]\n",
      " [-0.56]\n",
      " [-0.24]\n",
      " [ 0.56]\n",
      " [ 0.32]\n",
      " [ 0.24]]\n",
      "[[ 0.16 ]\n",
      " [ 0.224]\n",
      " [ 0.16 ]\n",
      " [-0.416]\n",
      " [-0.416]\n",
      " [-0.032]\n",
      " [ 0.416]\n",
      " [ 0.224]\n",
      " [ 0.544]]\n",
      "[[ 0.16  ]\n",
      " [ 0.1728]\n",
      " [ 0.16  ]\n",
      " [-0.4352]\n",
      " [-0.4672]\n",
      " [-0.2112]\n",
      " [ 0.4672]\n",
      " [ 0.1728]\n",
      " [ 0.416 ]]\n",
      "[[ 0.23552]\n",
      " [ 0.15616]\n",
      " [ 0.23552]\n",
      " [-0.44544]\n",
      " [-0.44032]\n",
      " [-0.21504]\n",
      " [ 0.44032]\n",
      " [ 0.15616]\n",
      " [ 0.4608 ]]\n"
     ]
    }
   ],
   "source": [
    "for i in range(5):\n",
    "    activation = np.dot(W, activation.reshape(-1, 1))\n",
    "    activation = activation * 0.1\n",
    "    print(activation)\n",
    "activation[activation > 0] = 1\n",
    "activation[activation < 0] = 0\n"
   ]
  },
  {
   "cell_type": "code",
   "execution_count": 424,
   "metadata": {},
   "outputs": [
    {
     "data": {
      "text/plain": [
       "array([[1],\n",
       "       [1],\n",
       "       [1],\n",
       "       [0],\n",
       "       [0],\n",
       "       [0],\n",
       "       [1],\n",
       "       [1],\n",
       "       [1]])"
      ]
     },
     "execution_count": 424,
     "metadata": {},
     "output_type": "execute_result"
    }
   ],
   "source": [
    "activation.astype(int)"
   ]
  },
  {
   "cell_type": "code",
   "execution_count": 413,
   "metadata": {
    "scrolled": true
   },
   "outputs": [
    {
     "data": {
      "text/plain": [
       "<matplotlib.image.AxesImage at 0x7f679f668f70>"
      ]
     },
     "execution_count": 413,
     "metadata": {},
     "output_type": "execute_result"
    },
    {
     "data": {
      "image/png": "[encoded data removed]",
      "text/plain": [
       "<Figure size 432x288 with 1 Axes>"
      ]
     },
     "metadata": {
      "needs_background": "light"
     },
     "output_type": "display_data"
    }
   ],
   "source": [
    "plt.imshow(activation.reshape(3, 3))"
   ]
  },
  {
   "cell_type": "code",
   "execution_count": 209,
   "metadata": {},
   "outputs": [
    {
     "data": {
      "text/plain": [
       "array([[-1,  1,  1],\n",
       "       [-1,  1, -1],\n",
       "       [-1, -1, -1]])"
      ]
     },
     "execution_count": 209,
     "metadata": {},
     "output_type": "execute_result"
    }
   ],
   "source": [
    "train"
   ]
  },
  {
   "cell_type": "code",
   "execution_count": null,
   "metadata": {},
   "outputs": [],
   "source": []
  }
 ],
 "metadata": {
  "kernelspec": {
   "display_name": "Python 3",
   "language": "python",
   "name": "python3"
  },
  "language_info": {
   "codemirror_mode": {
    "name": "ipython",
    "version": 3
   },
   "file_extension": ".py",
   "mimetype": "text/x-python",
   "name": "python",
   "nbconvert_exporter": "python",
   "pygments_lexer": "ipython3",
   "version": "3.8.10"
  }
 },
 "nbformat": 4,
 "nbformat_minor": 4
}
