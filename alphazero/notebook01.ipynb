{
 "cells": [
  {
   "cell_type": "code",
   "execution_count": 2,
   "id": "c7863dd2",
   "metadata": {},
   "outputs": [],
   "source": [
    "import torch\n",
    "import torch.nn.functional as F\n",
    "import numpy as np\n",
    "from tqdm import tqdm\n",
    "import random\n",
    "import matplotlib.pyplot as plt"
   ]
  },
  {
   "cell_type": "code",
   "execution_count": 3,
   "id": "e17094e5",
   "metadata": {},
   "outputs": [],
   "source": [
    "device = torch.device(\"cuda\")"
   ]
  },
  {
   "cell_type": "code",
   "execution_count": 4,
   "id": "b179ed69",
   "metadata": {},
   "outputs": [],
   "source": [
    "class Game(object):\n",
    "    def __init__(self):\n",
    "        self.states = []\n",
    "        self.policies = []\n",
    "        self.value = 0\n",
    "        \n",
    "    def add_state(self, state):\n",
    "        self.states.append(torch.as_tensor(state, dtype=torch.float).reshape(9))\n",
    "        \n",
    "    def add_policy(self, policy):\n",
    "        self.policies.append(torch.as_tensor(policy, dtype=torch.float).reshape(9))\n",
    "        \n",
    "    def unpack(self):\n",
    "        bs = len(self.states)\n",
    "        state_batch = torch.cat(self.states).reshape(bs, 9)\n",
    "        policy_batch = torch.cat(self.policies).reshape(bs, 9)\n",
    "        value_batch = torch.tensor([self.value]*bs, dtype=torch.float).reshape(bs, 1)\n",
    "        return state_batch, policy_batch, value_batch\n",
    "    "
   ]
  },
  {
   "cell_type": "code",
   "execution_count": 5,
   "id": "8ad4b3d7",
   "metadata": {},
   "outputs": [],
   "source": [
    "class Memory(object):\n",
    "    def __init__(self, max_size=300):\n",
    "        self.max_size = max_size\n",
    "        self.games = []\n",
    "    \n",
    "    def add_game(self, game):\n",
    "        if len(self.games) == self.max_size:\n",
    "            self.games.pop(random.randint(0, self.max_size-1))\n",
    "        self.games.append(game)\n",
    "        \n",
    "    def get_batch(self, n_games=5):\n",
    "        if len(self.games) <= n_games:\n",
    "            random.shuffle(self.games)\n",
    "            return self.games\n",
    "        return random.sample(self.games, n_games)"
   ]
  },
  {
   "cell_type": "code",
   "execution_count": 6,
   "id": "04fb25f4",
   "metadata": {},
   "outputs": [],
   "source": [
    "class TicTacToe(object):\n",
    "    def __init__(self):\n",
    "        self.board = np.zeros((3,3), dtype=np.int32)\n",
    "    \n",
    "    def get_valid_actions(self):\n",
    "        possible_actions = np.where(self.board.reshape(9) == 0)[0]\n",
    "        \n",
    "        if len(possible_actions) == 0:\n",
    "            return None\n",
    "        \n",
    "        return possible_actions\n",
    "    \n",
    "    def is_finish(self):\n",
    "        ret = self.get_reward() != 0 or  not(self.board ==0).any()\n",
    "\n",
    "        return ret\n",
    "    \n",
    "    def get_reward(self):\n",
    "        # check diagonal\n",
    "        if (self.board.diagonal() == self.board[0][0]).all():\n",
    "            return self.board[0][0]\n",
    "        if (self.board[:, ::-1].diagonal() == self.board[0][2]).all():\n",
    "            return self.board[0][2]\n",
    "        # check horizontal\n",
    "        if (self.board[0] == self.board[0][0] ).all():\n",
    "            return self.board[0][0]\n",
    "        if (self.board[1] == self.board[1][0]).all():\n",
    "            return self.board[1][0]\n",
    "        if (self.board[2] == self.board[2][0]).all():\n",
    "            return self.board[2][0]\n",
    "        # check vertical\n",
    "        if (self.board.T[0] == self.board.T[0][0] ).all():\n",
    "            return self.board.T[0][0]\n",
    "        if (self.board.T[1] == self.board.T[1][0]).all():\n",
    "            return self.board.T[1][0]\n",
    "        if (self.board.T[2] == self.board.T[2][0]).all():\n",
    "            return self.board.T[2][0]\n",
    "        return 0\n",
    "        \n",
    "    def perform_action(self, action, player):\n",
    "        if self.board.reshape(9)[action] != 0:\n",
    "            raise Exception(\"invalid action given\")\n",
    "            \n",
    "        self.board.reshape(9)[action] = player\n",
    "    \n",
    "    def get_state(self):\n",
    "        return self.board.copy()"
   ]
  },
  {
   "cell_type": "code",
   "execution_count": null,
   "id": "e7885438",
   "metadata": {},
   "outputs": [],
   "source": [
    "class Node(object):\n",
    "    def __init__(self, prior_prob, player=1, game_action=None, state=None):\n",
    "        self.state = state\n",
    "        self.prior_prob = prior_prob     \n",
    "        self.player = player\n",
    "        self.game_action = game_action\n",
    "        self.visit_count = 0\n",
    "        self.value = 0\n",
    "        self.children = []\n",
    "    \n",
    "    def ucb(self, parent):\n",
    "        ucb = self.prior_prob * np.sqrt(parent.visit_count)/(1+self.visit_count)\n",
    "        if self.visit_count > 0:\n",
    "            ucb -= self.value\n",
    "        \n",
    "        return ucb\n",
    "    \n",
    "    def is_final(self):\n",
    "        return self.children == []\n",
    "    \n",
    "    def select_child(self):\n",
    "        return sorted(self.children, key=lambda x: x.ucb(self))[-1]\n",
    "        \n",
    "    def initalize_tree(self):\n",
    "        action_space = np.where(self.state.reshape(9) == 0)[0]\n",
    "        \n",
    "        for i in action_space: self.children.append(Node(1/len(action_space), game_action=i, player=-1))\n",
    "            \n",
    "        "
   ]
  },
  {
   "cell_type": "code",
   "execution_count": 90,
   "id": "b7da316c",
   "metadata": {},
   "outputs": [],
   "source": [
    "class MCTS(object):\n",
    "    def __init__(self, model, num_simulations):\n",
    "        self.device = next(model.parameters()).device\n",
    "        #self.model = model\n",
    "        self.n_simul = num_simulations\n",
    "        self.root = Node(1, state=np.zeros((3,3)))\n",
    "        self.root.initalize_tree()\n",
    "    \n",
    "    def backprop(self, path, value):\n",
    "        for node in reversed(path):\n",
    "            node.value += value * node.player\n",
    "            node.value /= node.visit_count\n",
    "    \n",
    "    def best_action(self, tree):\n",
    "        return sorted(tree.children, key=lambda x: x.visit_count)[-1].game_action\n",
    "    \n",
    "    def get_child_by_action(self, action):\n",
    "        for c in self.root.children:\n",
    "            if c.game_action == action:\n",
    "                return c\n",
    "    \n",
    "    def run(self, state, model):\n",
    "        #print(model(torch.tensor([[0.]*9]).to(self.device)))\n",
    "        #root = Node(1, state=state)\n",
    "        #self.root.initalize_tree()\n",
    "        tree_path = []\n",
    "\n",
    "        for n in range(self.n_simul):\n",
    "            current_node = self.root\n",
    "            game = TicTacToe()\n",
    "            game.board = state.copy()\n",
    "\n",
    "            # walk down the tree\n",
    "            while not current_node.is_final():\n",
    "                current_node = current_node.select_child()\n",
    "                \n",
    "                game.perform_action(current_node.game_action, current_node.player)\n",
    "                current_state = game.get_state()\n",
    "                \n",
    "                current_node.visit_count += 1\n",
    "                tree_path.append(current_node)\n",
    "            \n",
    "            value = game.get_reward()\n",
    "\n",
    "            if not game.is_finish():\n",
    "                # expand\n",
    "                current_node.state = current_state\n",
    "                tensor_state = torch.as_tensor(current_node.state.reshape(1,9), dtype=torch.float)#.type(torch.LongTensor)\n",
    "                \n",
    "                    \n",
    "                p, v = model(tensor_state.to(self.device))\n",
    "                #print(p)\n",
    "                p, v = p.cpu(), v.cpu()\n",
    "\n",
    "    \n",
    "                p = p.reshape(9)\n",
    "                valid_actions = game.get_valid_actions()\n",
    "                for a in valid_actions:\n",
    "                    current_node.children.append(Node(game_action=a, prior_prob=p[a], player=current_node.player*-1))\n",
    "            self.backprop(tree_path[:-1], value)\n",
    "        \n",
    "        return self.root.children, self.best_action(self.root)"
   ]
  },
  {
   "cell_type": "code",
   "execution_count": 134,
   "id": "6f10a99c",
   "metadata": {},
   "outputs": [],
   "source": [
    "class Trainer(object):\n",
    "    def __init__(self, model):\n",
    "        self.device = next(model.parameters()).device\n",
    "        self.model = model\n",
    "        self.game = TicTacToe()\n",
    "        self.memory = Memory(max_size=500)\n",
    "        self.mcts = MCTS(self.model, 60)\n",
    "        self.optimizer = torch.optim.Adam(self.model.parameters(), lr=0.000006)\n",
    "    \n",
    "    def play(self, n_simulations, show_debug):\n",
    "        #mcts = MCTS(self.model, 40)\n",
    "        player = 1\n",
    "        start_node = None\n",
    "        #state_history = []\n",
    "        #policy_history = []\n",
    "        memory = Game()\n",
    "        state = np.zeros((3,3))\n",
    "        \n",
    "        for i in range(9):                \n",
    "            if show_debug:\n",
    "                print(state)\n",
    "                \n",
    "            #state_history.append(torch.as_tensor(state, dtype=torch.float).reshape(1,9))\n",
    "            memory.add_state(state)\n",
    "            \n",
    "            children, action = self.mcts.run(state * player, self.model)\n",
    "            policy = [0,0,0,0,0,0,0,0,0]\n",
    "            \n",
    "            for child in children:\n",
    "                policy[child.game_action] = child.visit_count/n_simulations\n",
    "                \n",
    "            #policy_history.append(torch.tensor(policy))\n",
    "            memory.add_policy(policy)\n",
    "            self.game.perform_action(action, player)\n",
    "            reward = self.game.get_reward()\n",
    "      \n",
    "            if self.game.is_finish():\n",
    "                self.game.board = np.zeros((3,3), dtype=np.int32)\n",
    "                memory.value = reward\n",
    "                self.mcts.root = start_node\n",
    "                return memory\n",
    "            player *= -1\n",
    "            \n",
    "            state = self.game.get_state()\n",
    "            if i == 0:\n",
    "                start_node = self.mcts.root\n",
    "                #print(self.mcts.root.children[0].visit_count)\n",
    "            self.mcts.root = self.mcts.get_child_by_action(action)\n",
    "                    \n",
    "    def loss(self, pred_p, pred_v, p, v):\n",
    "        p_loss = (p * torch.log(pred_p)).sum(dim=1).mean()\n",
    "        v_loss = torch.sum((v - pred_v)**2)/v.size()[0]\n",
    "        return v_loss - p_loss\n",
    "\n",
    "    def train(self, num_iterations, show_debug):\n",
    "        self.model.train()\n",
    "        losses = []\n",
    "        \n",
    "        #print(self.model(torch.tensor([ [0.]*9 ]).to(device)))\n",
    "        for i in tqdm(range(num_iterations)):\n",
    "            self.optimizer.zero_grad()\n",
    "            play_memory = self.play(25, show_debug)\n",
    "            \n",
    "            self.memory.add_game(play_memory)\n",
    "            batch = self.memory.get_batch(n_games=25)\n",
    "\n",
    "            for g in batch:\n",
    "                state_batch, policy_batch, value_batch = g.unpack()\n",
    "                pred_p, pred_v  = self.model(state_batch.to(device))\n",
    "                #print(p * torch.log(pred_p))\n",
    "                model_loss = self.loss(pred_p, pred_v, policy_batch.to(device), value_batch.to(device))\n",
    "                model_loss.backward()\n",
    "                \n",
    "                torch.nn.utils.clip_grad_norm_(self.model.parameters(), 0.1)\n",
    "                \n",
    "                self.optimizer.step()\n",
    "\n",
    "            losses.append(float(model_loss.cpu().detach())/(i+1))\n",
    "        return losses\n"
   ]
  },
  {
   "cell_type": "code",
   "execution_count": 75,
   "id": "12cb6510",
   "metadata": {},
   "outputs": [],
   "source": [
    "class AlphaZero(torch.nn.Module):\n",
    "    def __init__(self):\n",
    "        super(AlphaZero, self).__init__()\n",
    "        \n",
    "        self.layer1 = torch.nn.Linear(9, 16)\n",
    "        self.layer2 = torch.nn.Linear(16, 20)\n",
    "        self.layer3 = torch.nn.Linear(20, 40)\n",
    "        self.layer4 = torch.nn.Linear(40, 40)\n",
    "        self.layer5 = torch.nn.Linear(40, 20)\n",
    "        self.layer6 = torch.nn.Linear(20, 15)\n",
    "        \n",
    "        self.action_layer = torch.nn.Linear(15, 9)\n",
    "        self.value_layer = torch.nn.Linear(15, 1)\n",
    "        \n",
    "    def forward(self, x):\n",
    "        x = F.relu(self.layer1(x))\n",
    "        x = F.relu(self.layer2(x))\n",
    "        x = F.relu(self.layer3(x))\n",
    "        x = F.relu(self.layer4(x))\n",
    "        x = F.relu(self.layer5(x))\n",
    "        x = F.relu(self.layer6(x))\n",
    "\n",
    "        \n",
    "        p = self.action_layer(x)\n",
    "        v = self.value_layer(x)\n",
    "        return F.softmax(p, dim=1), torch.tanh(v)"
   ]
  },
  {
   "cell_type": "code",
   "execution_count": 105,
   "id": "ded5ebcb",
   "metadata": {},
   "outputs": [],
   "source": [
    "model = AlphaZero().to(device)\n",
    "trainer = Trainer(model)\n"
   ]
  },
  {
   "cell_type": "code",
   "execution_count": 135,
   "id": "74e523e7",
   "metadata": {},
   "outputs": [],
   "source": [
    "trainer = Trainer(model)"
   ]
  },
  {
   "cell_type": "code",
   "execution_count": 144,
   "id": "ea6262b9",
   "metadata": {
    "scrolled": true
   },
   "outputs": [
    {
     "name": "stderr",
     "output_type": "stream",
     "text": [
      "100%|███████████████████████████████████████████████████████████████████| 100/100 [01:03<00:00,  1.58it/s]\n"
     ]
    }
   ],
   "source": [
    "loss = trainer.train(num_iterations=100, show_debug=False)"
   ]
  },
  {
   "cell_type": "code",
   "execution_count": 97,
   "id": "ef7db77f",
   "metadata": {
    "scrolled": true
   },
   "outputs": [
    {
     "name": "stderr",
     "output_type": "stream",
     "text": [
      "100%|███████████████████████████████████████████████████████████████████████| 4/4 [00:02<00:00,  1.58it/s]\n"
     ]
    }
   ],
   "source": [
    "loss = trainer.train(num_iterations=4, show_debug=False)"
   ]
  },
  {
   "cell_type": "code",
   "execution_count": 146,
   "id": "54bc7f1b",
   "metadata": {
    "scrolled": true
   },
   "outputs": [
    {
     "name": "stderr",
     "output_type": "stream",
     "text": [
      "\r",
      "  0%|                                                                               | 0/4 [00:00<?, ?it/s]"
     ]
    },
    {
     "name": "stdout",
     "output_type": "stream",
     "text": [
      "[[0. 0. 0.]\n",
      " [0. 0. 0.]\n",
      " [0. 0. 0.]]\n",
      "[[0 0 0]\n",
      " [0 1 0]\n",
      " [0 0 0]]\n",
      "[[ 0  0  0]\n",
      " [ 0  1  0]\n",
      " [ 0 -1  0]]\n",
      "[[ 0  0  0]\n",
      " [ 0  1  0]\n",
      " [ 0 -1  1]]\n",
      "[[ 0  0  0]\n",
      " [-1  1  0]\n",
      " [ 0 -1  1]]\n"
     ]
    },
    {
     "name": "stderr",
     "output_type": "stream",
     "text": [
      "\r",
      " 25%|█████████████████▊                                                     | 1/4 [00:00<00:01,  1.57it/s]"
     ]
    },
    {
     "name": "stdout",
     "output_type": "stream",
     "text": [
      "[[ 0  0  0]\n",
      " [-1  1  0]\n",
      " [ 1 -1  1]]\n",
      "[[ 0  0  0]\n",
      " [-1  1 -1]\n",
      " [ 1 -1  1]]\n",
      "[[0. 0. 0.]\n",
      " [0. 0. 0.]\n",
      " [0. 0. 0.]]\n",
      "[[0 0 0]\n",
      " [0 1 0]\n",
      " [0 0 0]]\n",
      "[[ 0  0  0]\n",
      " [ 0  1  0]\n",
      " [ 0 -1  0]]\n",
      "[[ 0  0  0]\n",
      " [ 0  1  0]\n",
      " [ 0 -1  1]]\n",
      "[[ 0  0  0]\n",
      " [-1  1  0]\n",
      " [ 0 -1  1]]\n",
      "[[ 0  0  0]\n",
      " [-1  1  0]\n",
      " [ 1 -1  1]]\n",
      "[[ 0  0  0]\n",
      " [-1  1 -1]\n",
      " [ 1 -1  1]]\n"
     ]
    },
    {
     "name": "stderr",
     "output_type": "stream",
     "text": [
      "\r",
      " 50%|███████████████████████████████████▌                                   | 2/4 [00:01<00:01,  1.58it/s]"
     ]
    },
    {
     "name": "stdout",
     "output_type": "stream",
     "text": [
      "[[0. 0. 0.]\n",
      " [0. 0. 0.]\n",
      " [0. 0. 0.]]\n",
      "[[0 0 0]\n",
      " [0 1 0]\n",
      " [0 0 0]]\n",
      "[[ 0  0  0]\n",
      " [ 0  1  0]\n",
      " [ 0 -1  0]]\n",
      "[[ 0  0  0]\n",
      " [ 0  1  0]\n",
      " [ 0 -1  1]]\n",
      "[[ 0  0  0]\n",
      " [-1  1  0]\n",
      " [ 0 -1  1]]\n"
     ]
    },
    {
     "name": "stderr",
     "output_type": "stream",
     "text": [
      "\r",
      " 75%|█████████████████████████████████████████████████████▎                 | 3/4 [00:01<00:00,  1.58it/s]"
     ]
    },
    {
     "name": "stdout",
     "output_type": "stream",
     "text": [
      "[[ 0  0  0]\n",
      " [-1  1  0]\n",
      " [ 1 -1  1]]\n",
      "[[ 0  0  0]\n",
      " [-1  1 -1]\n",
      " [ 1 -1  1]]\n",
      "[[0. 0. 0.]\n",
      " [0. 0. 0.]\n",
      " [0. 0. 0.]]\n",
      "[[0 0 0]\n",
      " [0 1 0]\n",
      " [0 0 0]]\n",
      "[[ 0  0  0]\n",
      " [ 0  1  0]\n",
      " [ 0 -1  0]]\n",
      "[[ 0  0  0]\n",
      " [ 0  1  0]\n",
      " [ 0 -1  1]]\n",
      "[[ 0  0  0]\n",
      " [-1  1  0]\n",
      " [ 0 -1  1]]\n",
      "[[ 0  0  0]\n",
      " [-1  1  0]\n",
      " [ 1 -1  1]]\n",
      "[[ 0  0  0]\n",
      " [-1  1 -1]\n",
      " [ 1 -1  1]]\n"
     ]
    },
    {
     "name": "stderr",
     "output_type": "stream",
     "text": [
      "100%|███████████████████████████████████████████████████████████████████████| 4/4 [00:02<00:00,  1.57it/s]\n"
     ]
    },
    {
     "data": {
      "text/plain": [
       "[462.90582275390625, 9.09070873260498, 592.5189208984375, 99.96099090576172]"
      ]
     },
     "execution_count": 146,
     "metadata": {},
     "output_type": "execute_result"
    }
   ],
   "source": [
    "trainer.train(num_iterations=4, show_debug=True)"
   ]
  },
  {
   "cell_type": "code",
   "execution_count": 137,
   "id": "183b5c12",
   "metadata": {},
   "outputs": [
    {
     "data": {
      "text/plain": [
       "(tensor([[0.1012, 0.1268, 0.1001, 0.0975, 0.0973, 0.1230, 0.1073, 0.1529, 0.0939]],\n",
       "        device='cuda:0', grad_fn=<SoftmaxBackward>),\n",
       " tensor([[0.1344]], device='cuda:0', grad_fn=<TanhBackward>))"
      ]
     },
     "execution_count": 137,
     "metadata": {},
     "output_type": "execute_result"
    }
   ],
   "source": [
    "model(torch.tensor([[0.]*9]).to(device))"
   ]
  },
  {
   "cell_type": "code",
   "execution_count": 141,
   "id": "a7853f86",
   "metadata": {},
   "outputs": [
    {
     "data": {
      "text/plain": [
       "(tensor([[0.1063, 0.1254, 0.1088, 0.0977, 0.0961, 0.1312, 0.1122, 0.1309, 0.0914]],\n",
       "        device='cuda:0', grad_fn=<SoftmaxBackward>),\n",
       " tensor([[0.2371]], device='cuda:0', grad_fn=<TanhBackward>))"
      ]
     },
     "execution_count": 141,
     "metadata": {},
     "output_type": "execute_result"
    }
   ],
   "source": [
    "model(torch.tensor([[0.]*9]).to(device))"
   ]
  },
  {
   "cell_type": "code",
   "execution_count": 115,
   "id": "9408204d",
   "metadata": {},
   "outputs": [],
   "source": [
    "%matplotlib inline"
   ]
  },
  {
   "cell_type": "code",
   "execution_count": 145,
   "id": "4f021857",
   "metadata": {},
   "outputs": [
    {
     "data": {
      "text/plain": [
       "[<matplotlib.lines.Line2D at 0x7f15dd416f40>]"
      ]
     },
     "execution_count": 145,
     "metadata": {},
     "output_type": "execute_result"
    },
    {
     "data": {
      "image/png": "[encoded data removed]",
      "text/plain": [
       "<Figure size 432x288 with 1 Axes>"
      ]
     },
     "metadata": {
      "needs_background": "light"
     },
     "output_type": "display_data"
    }
   ],
   "source": [
    "plt.plot(loss)"
   ]
  },
  {
   "cell_type": "code",
   "execution_count": 35,
   "id": "8cffa214",
   "metadata": {},
   "outputs": [
    {
     "data": {
      "text/plain": [
       "[<matplotlib.lines.Line2D at 0x7f15de598100>]"
      ]
     },
     "execution_count": 35,
     "metadata": {},
     "output_type": "execute_result"
    },
    {
     "data": {
      "image/png": "[encoded data removed]",
      "text/plain": [
       "<Figure size 432x288 with 1 Axes>"
      ]
     },
     "metadata": {
      "needs_background": "light"
     },
     "output_type": "display_data"
    }
   ],
   "source": [
    "plt.plot(loss)"
   ]
  },
  {
   "cell_type": "code",
   "execution_count": null,
   "id": "bb72240c",
   "metadata": {},
   "outputs": [],
   "source": []
  }
 ],
 "metadata": {
  "kernelspec": {
   "display_name": "Python 3 (ipykernel)",
   "language": "python",
   "name": "python3"
  },
  "language_info": {
   "codemirror_mode": {
    "name": "ipython",
    "version": 3
   },
   "file_extension": ".py",
   "mimetype": "text/x-python",
   "name": "python",
   "nbconvert_exporter": "python",
   "pygments_lexer": "ipython3",
   "version": "3.8.10"
  }
 },
 "nbformat": 4,
 "nbformat_minor": 5
}
