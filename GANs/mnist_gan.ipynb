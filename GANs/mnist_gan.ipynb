{
 "cells": [
  {
   "cell_type": "code",
   "execution_count": 1,
   "id": "006aadb1",
   "metadata": {},
   "outputs": [],
   "source": [
    "import torch\n",
    "import numpy as np\n",
    "import matplotlib.pyplot as plt\n",
    "from tqdm import tqdm\n",
    "from torch.utils.data import DataLoader\n",
    "from torchvision import datasets, transforms"
   ]
  },
  {
   "cell_type": "code",
   "execution_count": 2,
   "id": "8da51dab",
   "metadata": {},
   "outputs": [],
   "source": [
    "device = torch.device(\"cuda\")"
   ]
  },
  {
   "cell_type": "code",
   "execution_count": 3,
   "id": "1fef51c5",
   "metadata": {},
   "outputs": [],
   "source": [
    "transform = transforms.Compose([transforms.ToTensor(), transforms.Normalize((0.5,), (0.5,))])\n",
    "\n",
    "trainset = datasets.MNIST(\"data\", transform=transform, download=True)\n",
    "trainloader = DataLoader(trainset, batch_size=32, shuffle=True)"
   ]
  },
  {
   "cell_type": "code",
   "execution_count": 52,
   "id": "ed5b79dd",
   "metadata": {},
   "outputs": [],
   "source": [
    "class Discriminator(torch.nn.Module):\n",
    "    def __init__(self):\n",
    "        super(Discriminator, self).__init__()\n",
    "        \n",
    "        self.fc1 = torch.nn.Linear(28*28, 500)\n",
    "        self.fc2 = torch.nn.Linear(500, 200)\n",
    "        self.fc3 = torch.nn.Linear(200, 1)\n",
    "        \n",
    "        self.activation = torch.nn.LeakyReLU(0.2)\n",
    "        self.sigmoid = torch.nn.functional.sigmoid\n",
    "        \n",
    "    def forward(self, x):\n",
    "        x = self.activation(self.fc1(x))\n",
    "        x = self.activation(self.fc2(x))\n",
    "        x = self.sigmoid(self.fc3(x))\n",
    "        return x\n",
    "    \n",
    "class Generator(torch.nn.Module):\n",
    "    def __init__(self):\n",
    "        super(Generator, self).__init__()\n",
    "        self.fc1 = torch.nn.Linear(80, 300)\n",
    "        self.fc2 = torch.nn.Linear(300, 500)\n",
    "        #self.fc2 = torch.nn.Linear(300, 400)\n",
    "        self.fc3 = torch.nn.Linear(500, 28*28)\n",
    "        \n",
    "        self.activation = torch.nn.LeakyReLU(0.2)\n",
    "        self.tanh = torch.nn.Tanh()\n",
    "        \n",
    "    def forward(self, x):\n",
    "        x = self.activation(self.fc1(x))\n",
    "        x = self.activation(self.fc2(x))\n",
    "        x = self.tanh(self.fc3(x))\n",
    "        return x"
   ]
  },
  {
   "cell_type": "code",
   "execution_count": 53,
   "id": "4f52c96f",
   "metadata": {},
   "outputs": [],
   "source": [
    "discriminator= Discriminator().to(device)\n",
    "generator = Generator().to(device)"
   ]
  },
  {
   "cell_type": "code",
   "execution_count": 63,
   "id": "1bb29212",
   "metadata": {},
   "outputs": [
    {
     "data": {
      "text/plain": [
       "<matplotlib.image.AxesImage at 0x7f1dd80e01c0>"
      ]
     },
     "execution_count": 63,
     "metadata": {},
     "output_type": "execute_result"
    },
    {
     "data": {
      "image/png": "[encoded data removed]",
      "text/plain": [
       "<Figure size 432x288 with 1 Axes>"
      ]
     },
     "metadata": {
      "needs_background": "light"
     },
     "output_type": "display_data"
    }
   ],
   "source": [
    "test_noise = torch.tensor(np.random.normal(0, 1, size=(1, 80)), dtype=torch.float).to(device)\n",
    "test_img = generator(test_noise).view(28, 28).detach().cpu().numpy()\n",
    "plt.imshow(test_img)"
   ]
  },
  {
   "cell_type": "code",
   "execution_count": 64,
   "id": "6e52f00c",
   "metadata": {},
   "outputs": [],
   "source": [
    "# standard Adam learning rate\n",
    "disc_lr = 3e-5\n",
    "gen_lr = 3e-5\n",
    "\n",
    "epochs = 2\n",
    "batch_size=32"
   ]
  },
  {
   "cell_type": "code",
   "execution_count": 59,
   "id": "d62eba6c",
   "metadata": {},
   "outputs": [],
   "source": [
    "criterion = torch.nn.BCELoss()\n",
    "#mse_loss = torch.nn.MSELoss()\n",
    "\n",
    "disc_optim = torch.optim.Adam(discriminator.parameters(), lr=disc_lr)\n",
    "gen_optim = torch.optim.Adam(generator.parameters(), lr=gen_lr)"
   ]
  },
  {
   "cell_type": "code",
   "execution_count": 60,
   "id": "69f99bf0",
   "metadata": {},
   "outputs": [],
   "source": [
    "real_output = torch.ones(32, dtype=torch.float).to(device)\n",
    "#prob_output = torch.tensor([0.9] * 32).to(device)\n",
    "fake_output = torch.zeros(32, dtype=torch.float).to(device)"
   ]
  },
  {
   "cell_type": "code",
   "execution_count": 65,
   "id": "29225111",
   "metadata": {},
   "outputs": [
    {
     "name": "stderr",
     "output_type": "stream",
     "text": [
      "100%|████████████████████████████████████████████| 2/2 [00:40<00:00, 20.34s/it]\n"
     ]
    }
   ],
   "source": [
    "discriminator_loss = []\n",
    "generator_loss = []\n",
    "\n",
    "for e in tqdm(range(epochs)):\n",
    "    for i, b in enumerate(trainloader):\n",
    "        mnist_img = b[0].view(-1, 28*28).to(device)\n",
    "        #print(b[1])\n",
    "        noise = torch.tensor(np.random.normal(0, 1, size=(32, 80)), dtype=torch.float).to(device)\n",
    "        \n",
    "        gen_img = generator(noise)\n",
    "        \n",
    "        gen_disc_loss = criterion(discriminator(gen_img).view(32), real_output)\n",
    "        gen_img_loss = mse_loss(gen_img, mnist_img)\n",
    "        \n",
    "        gen_loss = (gen_disc_loss + gen_img_loss)/2\n",
    "        \n",
    "        gen_optim.zero_grad()\n",
    "        gen_loss.backward(retain_graph=True)\n",
    "        gen_optim.step()\n",
    "        \n",
    "        disc_loss_real = criterion(discriminator(mnist_img).view(32), real_output)\n",
    "        disc_loss_fake = criterion(discriminator(gen_img).view(32).detach(), fake_output)\n",
    "        disc_loss = (disc_loss_real + disc_loss_fake)/2\n",
    "        \n",
    "        disc_optim.zero_grad()\n",
    "        disc_loss.backward()\n",
    "        disc_optim.step()\n",
    "        \n",
    "    discriminator_loss.append(disc_loss.item())\n",
    "    generator_loss.append(gen_loss.item())\n",
    "        #plt.clf()\n",
    "        #img = gen_img.detach().numpy()\n",
    "        #plt.imshow(img)\n",
    "        #plt.draw()"
   ]
  },
  {
   "cell_type": "code",
   "execution_count": 51,
   "id": "12d6f9a0",
   "metadata": {},
   "outputs": [
    {
     "data": {
      "text/plain": [
       "[<matplotlib.lines.Line2D at 0x7f6ec9aa8400>]"
      ]
     },
     "execution_count": 51,
     "metadata": {},
     "output_type": "execute_result"
    },
    {
     "data": {
      "image/png": "[encoded data removed]",
      "text/plain": [
       "<Figure size 432x288 with 1 Axes>"
      ]
     },
     "metadata": {
      "needs_background": "light"
     },
     "output_type": "display_data"
    }
   ],
   "source": [
    "plt.plot(discriminator_loss)\n",
    "plt.plot(generator_loss)"
   ]
  },
  {
   "cell_type": "code",
   "execution_count": null,
   "id": "f96e581b",
   "metadata": {},
   "outputs": [],
   "source": []
  }
 ],
 "metadata": {
  "kernelspec": {
   "display_name": "Python 3 (ipykernel)",
   "language": "python",
   "name": "python3"
  },
  "language_info": {
   "codemirror_mode": {
    "name": "ipython",
    "version": 3
   },
   "file_extension": ".py",
   "mimetype": "text/x-python",
   "name": "python",
   "nbconvert_exporter": "python",
   "pygments_lexer": "ipython3",
   "version": "3.8.10"
  }
 },
 "nbformat": 4,
 "nbformat_minor": 5
}
