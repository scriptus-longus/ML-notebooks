{
 "cells": [
  {
   "cell_type": "code",
   "execution_count": 62,
   "id": "e5221667",
   "metadata": {},
   "outputs": [],
   "source": [
    "import torch\n",
    "import matplotlib.pyplot as plt\n",
    "from tqdm import tqdm\n",
    "import numpy as np\n",
    "from torchvision import transforms, datasets\n",
    "from torch.utils.data import DataLoader\n"
   ]
  },
  {
   "cell_type": "code",
   "execution_count": 6,
   "id": "41988c24",
   "metadata": {},
   "outputs": [
    {
     "name": "stdout",
     "output_type": "stream",
     "text": [
      "cuda\n"
     ]
    }
   ],
   "source": [
    "device = torch.device(\"cuda\") if torch.cuda.is_available else torch.device(\"cpu\")\n",
    "print(device)"
   ]
  },
  {
   "cell_type": "code",
   "execution_count": 10,
   "id": "43a9adbb",
   "metadata": {},
   "outputs": [],
   "source": [
    "transform = transforms.Compose([transforms.ToTensor(), transforms.Normalize((0.5,), (0.5,))])\n",
    "\n",
    "trainset = datasets.MNIST(\"data\", transform=transform, download=True)\n",
    "trainloader = DataLoader(trainset, batch_size=32, shuffle=True)"
   ]
  },
  {
   "cell_type": "code",
   "execution_count": 21,
   "id": "951fc194",
   "metadata": {},
   "outputs": [],
   "source": [
    "class Classifier(torch.nn.Module):\n",
    "    def __init__(self):\n",
    "        super().__init__()\n",
    "        self.net = torch.nn.Sequential(torch.nn.Linear(28*28, 500),\n",
    "                                    torch.nn.LeakyReLU(0.2),\n",
    "                                    torch.nn.Linear(500, 200),\n",
    "                                    torch.nn.LeakyReLU(0.2),\n",
    "                                    torch.nn.Linear(200, 10),\n",
    "                                    torch.nn.Sigmoid())\n",
    "        \n",
    "    def forward(self, x):\n",
    "        return self.net(x)\n",
    "    "
   ]
  },
  {
   "cell_type": "code",
   "execution_count": 13,
   "id": "4af30427",
   "metadata": {},
   "outputs": [],
   "source": [
    "class Discriminator(torch.nn.Module):\n",
    "    def __init__(self):\n",
    "        super().__init__()\n",
    "        self.fc1 = torch.nn.Linear(28*28, 500)\n",
    "        self.fc2 = torch.nn.Linear(500, 200)\n",
    "        self.fc3 = torch.nn.Linear(200, 1)\n",
    "        \n",
    "        self.activation = torch.nn.LeakyReLU(0.2)\n",
    "        self.sigmoid = torch.nn.Sigmoid()\n",
    "        \n",
    "    def forward(self, x):\n",
    "        x = self.activation(self.fc1(x))\n",
    "        x = self.activation(self.fc2(x))\n",
    "        x = self.sigmoid(self.fc3(x))\n",
    "        return x"
   ]
  },
  {
   "cell_type": "code",
   "execution_count": 28,
   "id": "62b23df8",
   "metadata": {},
   "outputs": [],
   "source": [
    "class Generator(torch.nn.Module):\n",
    "    def __init__(self):\n",
    "        super().__init__()\n",
    "        self.fc1 = torch.nn.Linear(50, 200)\n",
    "        self.fc2 = torch.nn.Linear(200, 500)\n",
    "        self.fc3 = torch.nn.Linear(500, 28*28)\n",
    "        \n",
    "        self.activation = torch.nn.LeakyReLU(0.2)\n",
    "        self.tanh = torch.nn.Tanh()\n",
    "        \n",
    "    def forward(self, x):\n",
    "        x = self.activation(self.fc1(x))\n",
    "        x = self.activation(self.fc2(x))\n",
    "        x = self.tanh(self.fc3(x))\n",
    "        return x"
   ]
  },
  {
   "cell_type": "code",
   "execution_count": 325,
   "id": "78df4105",
   "metadata": {},
   "outputs": [],
   "source": [
    "disc = Discriminator().to(device)\n",
    "gen = Generator().to(device)\n",
    "clafi = Classifier().to(device)"
   ]
  },
  {
   "cell_type": "code",
   "execution_count": 343,
   "id": "6e8c3efe",
   "metadata": {},
   "outputs": [],
   "source": [
    "test_noise = torch.tensor(np.random.normal(0, 1, size=(50)), dtype=torch.float).to(device)\n",
    "generated_img = gen(test_noise)\n",
    "numpy_generated_img = generated_img.view(28, 28).cpu().detach().numpy()"
   ]
  },
  {
   "cell_type": "code",
   "execution_count": 344,
   "id": "08f1ab51",
   "metadata": {},
   "outputs": [
    {
     "name": "stdout",
     "output_type": "stream",
     "text": [
      "0.7862238883972168\n",
      "3\n"
     ]
    },
    {
     "data": {
      "text/plain": [
       "<matplotlib.image.AxesImage at 0x7f15d85bed60>"
      ]
     },
     "execution_count": 344,
     "metadata": {},
     "output_type": "execute_result"
    },
    {
     "data": {
      "image/png": "[encoded data removed]",
      "text/plain": [
       "<Figure size 432x288 with 1 Axes>"
      ]
     },
     "metadata": {
      "needs_background": "light"
     },
     "output_type": "display_data"
    }
   ],
   "source": [
    "print(disc(generated_img).cpu().detach().item())\n",
    "print(torch.argmax(clafi(generated_img).cpu().detach()).item())\n",
    "plt.imshow(numpy_generated_img)"
   ]
  },
  {
   "cell_type": "code",
   "execution_count": 328,
   "id": "02d02ea5",
   "metadata": {},
   "outputs": [],
   "source": [
    "epochs = 30\n",
    "batch_size=32"
   ]
  },
  {
   "cell_type": "code",
   "execution_count": 329,
   "id": "b4ee63c2",
   "metadata": {},
   "outputs": [],
   "source": [
    "gen_lr = 3e-4\n",
    "disc_lr = 3e-4\n",
    "clafi_lr = 3e-4"
   ]
  },
  {
   "cell_type": "code",
   "execution_count": 330,
   "id": "c5d50557",
   "metadata": {},
   "outputs": [],
   "source": [
    "mce_loss = torch.nn.CrossEntropyLoss()\n",
    "bce_loss = torch.nn.BCELoss()\n",
    "\n",
    "gen_optim = torch.optim.Adam(gen.parameters(), lr=gen_lr)\n",
    "disc_optim = torch.optim.Adam(disc.parameters(), lr=disc_lr)\n",
    "clafi_lr = torch.optim.Adam(clafi.parameters(), lr=clafi_lr)"
   ]
  },
  {
   "cell_type": "code",
   "execution_count": 331,
   "id": "dc893f24",
   "metadata": {},
   "outputs": [],
   "source": [
    "real_output = torch.ones(batch_size, dtype=torch.float).to(device)\n",
    "fake_output = torch.zeros(batch_size, dtype=torch.float).to(device)"
   ]
  },
  {
   "cell_type": "code",
   "execution_count": 332,
   "id": "eb8fa278",
   "metadata": {
    "scrolled": true
   },
   "outputs": [
    {
     "name": "stderr",
     "output_type": "stream",
     "text": [
      "100%|██████████████████████████████████████████| 30/30 [11:33<00:00, 23.13s/it]\n"
     ]
    }
   ],
   "source": [
    "for e in tqdm(range(epochs)):\n",
    "    for i, b in enumerate(trainloader):\n",
    "        mnist_img = b[0].view(-1, 28*28).to(device)\n",
    "        labels = b[1].to(device)\n",
    "        noise = torch.tensor(np.random.normal(0, 1, size=(batch_size, 50)), dtype=torch.float).to(device)\n",
    "        \n",
    "        #generated_img = gen(noise)\n",
    "        \n",
    "        if i % 1 == 0:\n",
    "            gen_loss = bce_loss(disc(gen(noise)).view(batch_size), real_output)\n",
    "            gen_optim.zero_grad()\n",
    "            gen_loss.backward()\n",
    "            gen_optim.step()\n",
    "        \n",
    "        disc_loss = bce_loss(disc(gen(noise)).view(batch_size), fake_output)\n",
    "        disc_loss += bce_loss(disc(mnist_img).view(batch_size), real_output)\n",
    "        \n",
    "        disc_optim.zero_grad()\n",
    "        disc_loss.backward()\n",
    "        disc_optim.step()"
   ]
  },
  {
   "cell_type": "code",
   "execution_count": null,
   "id": "03355675",
   "metadata": {},
   "outputs": [],
   "source": []
  }
 ],
 "metadata": {
  "kernelspec": {
   "display_name": "Python 3 (ipykernel)",
   "language": "python",
   "name": "python3"
  },
  "language_info": {
   "codemirror_mode": {
    "name": "ipython",
    "version": 3
   },
   "file_extension": ".py",
   "mimetype": "text/x-python",
   "name": "python",
   "nbconvert_exporter": "python",
   "pygments_lexer": "ipython3",
   "version": "3.8.10"
  }
 },
 "nbformat": 4,
 "nbformat_minor": 5
}
