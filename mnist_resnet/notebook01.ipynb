{
 "cells": [
  {
   "cell_type": "code",
   "execution_count": 112,
   "id": "a6099f31",
   "metadata": {},
   "outputs": [],
   "source": [
    "import torch\n",
    "import torchvision\n",
    "from tqdm import tqdm\n",
    "import numpy as np"
   ]
  },
  {
   "cell_type": "code",
   "execution_count": null,
   "id": "6e99c5e5",
   "metadata": {},
   "outputs": [],
   "source": [
    "device = torch.device(\"cuda\" if torch.cuda.is_available() else \"cpu\")\n",
    "device"
   ]
  },
  {
   "cell_type": "code",
   "execution_count": 108,
   "id": "ba718907",
   "metadata": {},
   "outputs": [],
   "source": [
    "train = torchvision.datasets.MNIST(\"\", train=True, transform=torchvision.transforms.Compose([torchvision.transforms.ToTensor()]),download=False)\n",
    "test = torchvision.datasets.MNIST(\"\", train=False, transform=torchvision.transforms.Compose([torchvision.transforms.ToTensor()]),download=False)\n",
    "\n",
    "trainset = torch.utils.data.DataLoader(train, batch_size=65, shuffle=True)\n",
    "testset = torch.utils.data.DataLoader(test, batch_size=65, shuffle=True)\n"
   ]
  },
  {
   "cell_type": "code",
   "execution_count": 110,
   "id": "6c10621f",
   "metadata": {},
   "outputs": [],
   "source": [
    "class Block(torch.nn.Module):\n",
    "    def __init__(self, stride=(1,1), channels=(1, 1)):\n",
    "        super().__init__()\n",
    "        self.conv1 = torch.nn.Conv2d(channels[0], \n",
    "                                     channels[1], \n",
    "                                     kernel_size=(3, 3), \n",
    "                                     dilation=(1, 1), \n",
    "                                     padding=(1,1), \n",
    "                                     stride=(1,1)) \n",
    "        \n",
    "        self.conv2 = torch.nn.Conv2d(channels[1],\n",
    "                                     channels[1],\n",
    "                                     kernel_size=(3,3),\n",
    "                                     dilation=(1,1),\n",
    "                                     padding=(1,1),\n",
    "                                     stride=(1,1))\n",
    "        \n",
    "        self.relu = torch.nn.functional.relu\n",
    "        self.btn = torch.nn.BatchNorm2d(channels[1])\n",
    "        \n",
    "    def forward(self, x):\n",
    "        org_input = x\n",
    "        x = self.conv1(x)\n",
    "        x = self.relu(x)\n",
    "        x = self.btn(x)\n",
    "        x = self.conv2(x)\n",
    "        return self.relu(org_input + x)      # TODO: optional W and H\n",
    "\n",
    "    \n",
    "\n",
    "class ResNet(torch.nn.Module):\n",
    "    def __init__(self):\n",
    "        super().__init__()\n",
    "        self.b1 = Block()\n",
    "        self.b2 = Block()\n",
    "        self.b3 = Block()\n",
    "        self.b4 = Block()\n",
    "        self.b5 = Block()\n",
    "        self.b6 = Block()\n",
    "        self.b7 = Block()\n",
    "        self.b8 = Block()\n",
    "        self.b9 = Block()\n",
    "        self.b10 = Block()\n",
    "        self.b11 = Block()\n",
    "        \n",
    "        self.conv = torch.nn.Conv2d(1,1, \n",
    "                                     kernel_size=(3,3), \n",
    "                                     padding=(1,1),\n",
    "                                     stride=2, \n",
    "                                     dilation=(1,1))\n",
    "                \n",
    "        self.pool = torch.nn.MaxPool2d(2)\n",
    "        self.ln = torch.nn.Linear(3*3, 10)\n",
    "        self.relu = torch.nn.functional.relu\n",
    "        \n",
    "        \n",
    "    def forward(self, x):\n",
    "        x = self.pool(x)\n",
    "        x = self.b1(x)\n",
    "        x = self.b2(x)\n",
    "        x = self.b3(x)\n",
    "        x = self.b4(x)\n",
    "        x = self.b5(x)\n",
    "        x = self.pool(x)\n",
    "        x = self.b6(x)\n",
    "        x = self.b7(x)\n",
    "        x = self.b8(x)\n",
    "        x = self.b9(x)\n",
    "        x = self.pool(x)\n",
    "        x = self.b10(x)\n",
    "        x = self.b11(x).view(-1, 3*3)\n",
    "        \n",
    "        x = self.relu(self.ln(x))\n",
    "        return x"
   ]
  },
  {
   "cell_type": "code",
   "execution_count": null,
   "id": "719ad303",
   "metadata": {
    "scrolled": true
   },
   "outputs": [],
   "source": [
    "model = ResNet().to(device)\n"
   ]
  },
  {
   "cell_type": "code",
   "execution_count": 84,
   "id": "bf459661",
   "metadata": {},
   "outputs": [],
   "source": [
    "optimizer = torch.optim.SGD(model.parameters(), lr=0.0001, momentum=0.9)\n",
    "criterion = torch.nn.CrossEntropyLoss()"
   ]
  },
  {
   "cell_type": "code",
   "execution_count": null,
   "id": "f06e12bd",
   "metadata": {
    "scrolled": true
   },
   "outputs": [],
   "source": [
    "epochs = 20\n",
    "training_loss = []\n",
    "training_acc = []\n",
    "\n",
    "\n",
    "#training\n",
    "for e in range(epochs):\n",
    "    train_loss = 0.0\n",
    "    train_acc = 0.0\n",
    "    \n",
    "    model.train()\n",
    "    for data in tqdm(trainset):\n",
    "        X, y = data\n",
    "        optimizer.zero_grad()\n",
    "        \n",
    "        output = model(X)\n",
    "        \n",
    "        loss = criterion(output, y)\n",
    "        \n",
    "        loss.backward()\n",
    "        optimizer.step()\n",
    "        \n",
    "        prediction = torch.argmax(output, dim=1)\n",
    "        \n",
    "        train_loss += loss.item()\n",
    "        train_acc += (prediction == y).sum().item()\n",
    "        \n",
    "    training_loss.append(train_loss/len(trainset))\n",
    "    training_acc.append(train_acc/len(train))\n",
    "        "
   ]
  },
  {
   "cell_type": "code",
   "execution_count": null,
   "id": "8dbd210e",
   "metadata": {
    "scrolled": false
   },
   "outputs": [],
   "source": [
    "%matplotlib inline\n",
    "import matplotlib.pyplot as plt\n",
    "\n",
    "# some graphs\n",
    "plt.plot(training_loss)\n",
    "plt.plot(training_acc)"
   ]
  },
  {
   "cell_type": "code",
   "execution_count": null,
   "id": "8b092701",
   "metadata": {},
   "outputs": [],
   "source": [
    "# test on individual image\n",
    "n = 35\n",
    "\n",
    "img = test.__getitem__(n)[0]\n",
    "print(img.shape)\n",
    "\n",
    "pred = model(img.unsqueeze(1))\n",
    "print(pred)\n",
    "print(torch.argmax(pred))\n",
    "\n",
    "plt.imshow(img.numpy()[0])"
   ]
  }
 ],
 "metadata": {
  "kernelspec": {
   "display_name": "Python 3 (ipykernel)",
   "language": "python",
   "name": "python3"
  },
  "language_info": {
   "codemirror_mode": {
    "name": "ipython",
    "version": 3
   },
   "file_extension": ".py",
   "mimetype": "text/x-python",
   "name": "python",
   "nbconvert_exporter": "python",
   "pygments_lexer": "ipython3",
   "version": "3.8.10"
  }
 },
 "nbformat": 4,
 "nbformat_minor": 5
}
